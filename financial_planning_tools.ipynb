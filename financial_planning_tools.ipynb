{
 "cells": [
  {
   "cell_type": "markdown",
   "metadata": {},
   "source": [
    "# Financial Planning with APIs and Simulations\n",
    "\n",
    "In this Challenge, you’ll create two financial analysis tools by using a single Jupyter notebook:\n",
    "\n",
    "Part 1: A financial planner for emergencies. The members will be able to use this tool to visualize their current savings. The members can then determine if they have enough reserves for an emergency fund.\n",
    "\n",
    "Part 2: A financial planner for retirement. This tool will forecast the performance of their retirement portfolio in 30 years. To do this, the tool will make an Alpaca API call via the Alpaca SDK to get historical price data for use in Monte Carlo simulations.\n",
    "\n",
    "You’ll use the information from the Monte Carlo simulation to answer questions about the portfolio in your Jupyter notebook.\n",
    "\n"
   ]
  },
  {
   "cell_type": "code",
   "execution_count": 127,
   "metadata": {},
   "outputs": [],
   "source": [
    "# Import the required libraries and dependencies\n",
    "import os\n",
    "import requests\n",
    "import json\n",
    "import pandas as pd\n",
    "from dotenv import load_dotenv\n",
    "import alpaca_trade_api as tradeapi\n",
    "from MCForecastTools import MCSimulation\n",
    "\n",
    "%matplotlib inline"
   ]
  },
  {
   "cell_type": "code",
   "execution_count": 2,
   "metadata": {},
   "outputs": [
    {
     "data": {
      "text/plain": [
       "True"
      ]
     },
     "execution_count": 2,
     "metadata": {},
     "output_type": "execute_result"
    }
   ],
   "source": [
    "# Load the environment variables from the .env file\n",
    "#by calling the load_dotenv function\n",
    "load_dotenv()"
   ]
  },
  {
   "cell_type": "markdown",
   "metadata": {},
   "source": [
    "## Part 1: Create a Financial Planner for Emergencies"
   ]
  },
  {
   "cell_type": "markdown",
   "metadata": {},
   "source": [
    "### Evaluate the Cryptocurrency Wallet by Using the Requests Library\n",
    "\n",
    "In this section, you’ll determine the current value of a member’s cryptocurrency wallet. You’ll collect the current prices for the Bitcoin and Ethereum cryptocurrencies by using the Python Requests library. For the prototype, you’ll assume that the member holds the 1.2 Bitcoins (BTC) and 5.3 Ethereum coins (ETH). To do all this, complete the following steps:\n",
    "\n",
    "1. Create a variable named `monthly_income`, and set its value to `12000`.\n",
    "\n",
    "2. Use the Requests library to get the current price (in US dollars) of Bitcoin (BTC) and Ethereum (ETH) by using the API endpoints that the starter code supplies.\n",
    "\n",
    "3. Navigate the JSON response object to access the current price of each coin, and store each in a variable.\n",
    "\n",
    "    > **Hint** Note the specific identifier for each cryptocurrency in the API JSON response. The Bitcoin identifier is `1`, and the Ethereum identifier is `1027`.\n",
    "\n",
    "4. Calculate the value, in US dollars, of the current amount of each cryptocurrency and of the entire cryptocurrency wallet.\n",
    "\n"
   ]
  },
  {
   "cell_type": "code",
   "execution_count": 3,
   "metadata": {},
   "outputs": [],
   "source": [
    "# The current number of coins for each cryptocurrency asset held in the portfolio.\n",
    "btc_coins = 1.2\n",
    "eth_coins = 5.3"
   ]
  },
  {
   "cell_type": "markdown",
   "metadata": {},
   "source": [
    "#### Step 1: Create a variable named `monthly_income`, and set its value to `12000`."
   ]
  },
  {
   "cell_type": "code",
   "execution_count": 103,
   "metadata": {},
   "outputs": [],
   "source": [
    "# The monthly amount for the member's household income\n",
    "# YOUR CODE HERE\n",
    "monthly_income = 12000"
   ]
  },
  {
   "cell_type": "markdown",
   "metadata": {},
   "source": [
    "#### Review the endpoint URLs for the API calls to Free Crypto API in order to get the current pricing information for both BTC and ETH."
   ]
  },
  {
   "cell_type": "code",
   "execution_count": 5,
   "metadata": {},
   "outputs": [],
   "source": [
    "# The Free Crypto API Call endpoint URLs for the held cryptocurrency assets\n",
    "btc_url = \"https://api.alternative.me/v2/ticker/Bitcoin/?convert=USD\"\n",
    "eth_url = \"https://api.alternative.me/v2/ticker/Ethereum/?convert=USD\""
   ]
  },
  {
   "cell_type": "markdown",
   "metadata": {},
   "source": [
    "#### Step 2. Use the Requests library to get the current price (in US dollars) of Bitcoin (BTC) and Ethereum (ETH) by using the API endpoints that the starter code supplied."
   ]
  },
  {
   "cell_type": "code",
   "execution_count": 6,
   "metadata": {},
   "outputs": [
    {
     "name": "stdout",
     "output_type": "stream",
     "text": [
      "{\n",
      "    \"data\": {\n",
      "        \"1\": {\n",
      "            \"id\": 1,\n",
      "            \"name\": \"Bitcoin\",\n",
      "            \"symbol\": \"BTC\",\n",
      "            \"website_slug\": \"bitcoin\",\n",
      "            \"rank\": 1,\n",
      "            \"circulating_supply\": 18950687,\n",
      "            \"total_supply\": 18950687,\n",
      "            \"max_supply\": 21000000,\n",
      "            \"quotes\": {\n",
      "                \"USD\": {\n",
      "                    \"price\": 41739.0,\n",
      "                    \"volume_24h\": 11856632373,\n",
      "                    \"market_cap\": 791213466729,\n",
      "                    \"percentage_change_1h\": -0.0712253985032495,\n",
      "                    \"percentage_change_24h\": -0.0374742932978724,\n",
      "                    \"percentage_change_7d\": 9.17343944624546,\n",
      "                    \"percent_change_1h\": -0.0712253985032495,\n",
      "                    \"percent_change_24h\": -0.0374742932978724,\n",
      "                    \"percent_change_7d\": 9.17343944624546\n",
      "                }\n",
      "            },\n",
      "            \"last_updated\": 1644186892\n",
      "        }\n",
      "    },\n",
      "    \"metadata\": {\n",
      "        \"timestamp\": 1644186892,\n",
      "        \"num_cryptocurrencies\": 3105,\n",
      "        \"error\": null\n",
      "    }\n",
      "}\n"
     ]
    }
   ],
   "source": [
    "# Using the Python requests library, make an API call to access the current price of BTC\n",
    "btc_response = requests.get(btc_url).json()\n",
    "\n",
    "# Use the json.dumps function to review the response data from the API call\n",
    "# Use the indent and sort_keys parameters to make the response object readable #rest objects\n",
    "\n",
    "print(json.dumps(btc_response,sort_keys=False,indent=4))\n"
   ]
  },
  {
   "cell_type": "code",
   "execution_count": 7,
   "metadata": {},
   "outputs": [
    {
     "name": "stdout",
     "output_type": "stream",
     "text": [
      "{\n",
      "    \"data\": {\n",
      "        \"1027\": {\n",
      "            \"id\": 1027,\n",
      "            \"name\": \"Ethereum\",\n",
      "            \"symbol\": \"ETH\",\n",
      "            \"website_slug\": \"ethereum\",\n",
      "            \"rank\": 2,\n",
      "            \"circulating_supply\": 119473985,\n",
      "            \"total_supply\": 119473985,\n",
      "            \"max_supply\": 0,\n",
      "            \"quotes\": {\n",
      "                \"USD\": {\n",
      "                    \"price\": 3003.16,\n",
      "                    \"volume_24h\": 8160105528,\n",
      "                    \"market_cap\": 358965050910,\n",
      "                    \"percentage_change_1h\": -0.0727061402207886,\n",
      "                    \"percentage_change_24h\": -1.0714159361468,\n",
      "                    \"percentage_change_7d\": 15.3464625619547,\n",
      "                    \"percent_change_1h\": -0.0727061402207886,\n",
      "                    \"percent_change_24h\": -1.0714159361468,\n",
      "                    \"percent_change_7d\": 15.3464625619547\n",
      "                }\n",
      "            },\n",
      "            \"last_updated\": 1644186784\n",
      "        }\n",
      "    },\n",
      "    \"metadata\": {\n",
      "        \"timestamp\": 1644186784,\n",
      "        \"num_cryptocurrencies\": 3105,\n",
      "        \"error\": null\n",
      "    }\n",
      "}\n"
     ]
    }
   ],
   "source": [
    "# Using the Python requests library, make an API call to access the current price ETH\n",
    "eth_response = requests.get(eth_url).json()\n",
    "\n",
    "# Use the json.dumps function to review the response data from the API call\n",
    "# Use the indent and sort_keys parameters to make the response object readable\n",
    "\n",
    "print(json.dumps(eth_response,sort_keys=False,indent=4))\n"
   ]
  },
  {
   "cell_type": "markdown",
   "metadata": {},
   "source": [
    "#### Step 3: Navigate the JSON response object to access the current price of each coin, and store each in a variable."
   ]
  },
  {
   "cell_type": "code",
   "execution_count": 9,
   "metadata": {},
   "outputs": [
    {
     "data": {
      "text/plain": [
       "41739.0"
      ]
     },
     "execution_count": 9,
     "metadata": {},
     "output_type": "execute_result"
    }
   ],
   "source": [
    "# Navigate the BTC response object to access the current price of BTC\n",
    "btc_price = btc_response['data']['1']['quotes']['USD']['price']\n",
    "\n",
    "# Print the current price of BTC\n",
    "btc_price"
   ]
  },
  {
   "cell_type": "code",
   "execution_count": 11,
   "metadata": {},
   "outputs": [
    {
     "data": {
      "text/plain": [
       "3003.16"
      ]
     },
     "execution_count": 11,
     "metadata": {},
     "output_type": "execute_result"
    }
   ],
   "source": [
    "# Navigate the BTC response object to access the current price of ETH\n",
    "eth_price = eth_response['data']['1027']['quotes']['USD']['price']\n",
    "\n",
    "# Print the current price of ETH\n",
    "eth_price\n"
   ]
  },
  {
   "cell_type": "markdown",
   "metadata": {},
   "source": [
    "### Step 4: Calculate the value, in US dollars, of the current amount of each cryptocurrency and of the entire cryptocurrency wallet."
   ]
  },
  {
   "cell_type": "code",
   "execution_count": 12,
   "metadata": {},
   "outputs": [
    {
     "data": {
      "text/plain": [
       "50086.799999999996"
      ]
     },
     "execution_count": 12,
     "metadata": {},
     "output_type": "execute_result"
    }
   ],
   "source": [
    "# Compute the current value of the BTC holding \n",
    "btc_value =  btc_coins * btc_price\n",
    "\n",
    "# Print current value of your holding in BTC\n",
    "btc_value\n"
   ]
  },
  {
   "cell_type": "code",
   "execution_count": 14,
   "metadata": {},
   "outputs": [
    {
     "data": {
      "text/plain": [
       "15916.748"
      ]
     },
     "execution_count": 14,
     "metadata": {},
     "output_type": "execute_result"
    }
   ],
   "source": [
    "# Compute the current value of the ETH holding \n",
    "eth_value = eth_coins * eth_price\n",
    "\n",
    "# Print current value of your holding in ETH\n",
    "\n",
    "eth_value\n"
   ]
  },
  {
   "cell_type": "code",
   "execution_count": 15,
   "metadata": {},
   "outputs": [
    {
     "data": {
      "text/plain": [
       "66003.548"
      ]
     },
     "execution_count": 15,
     "metadata": {},
     "output_type": "execute_result"
    }
   ],
   "source": [
    "# Compute the total value of the cryptocurrency wallet\n",
    "# Add the value of the BTC holding to the value of the ETH holding\n",
    "total_crypto_wallet = eth_value + btc_value\n",
    "\n",
    "# Print current cryptocurrency wallet balance\n",
    "\n",
    "total_crypto_wallet"
   ]
  },
  {
   "cell_type": "markdown",
   "metadata": {},
   "source": [
    "### Evaluate the Stock and Bond Holdings by Using the Alpaca SDK\n",
    "\n",
    "In this section, you’ll determine the current value of a member’s stock and bond holdings. You’ll make an API call to Alpaca via the Alpaca SDK to get the current closing prices of the SPDR S&P 500 ETF Trust (ticker: SPY) and of the iShares Core US Aggregate Bond ETF (ticker: AGG). For the prototype, assume that the member holds 110 shares of SPY, which represents the stock portion of their portfolio, and 200 shares of AGG, which represents the bond portion. To do all this, complete the following steps:\n",
    "\n",
    "1. In the `Starter_Code` folder, create an environment file (`.env`) to store the values of your Alpaca API key and Alpaca secret key.\n",
    "\n",
    "2. Set the variables for the Alpaca API and secret keys. Using the Alpaca SDK, create the Alpaca `tradeapi.REST` object. In this object, include the parameters for the Alpaca API key, the secret key, and the version number.\n",
    "\n",
    "3. Set the following parameters for the Alpaca API call:\n",
    "\n",
    "    - `tickers`: Use the tickers for the member’s stock and bond holdings.\n",
    "\n",
    "    - `timeframe`: Use a time frame of one day.\n",
    "\n",
    "    - `start_date` and `end_date`: Use the same date for these parameters, and format them with the date of the previous weekday (or `2020-08-07`). This is because you want the one closing price for the most-recent trading day.\n",
    "\n",
    "4. Get the current closing prices for `SPY` and `AGG` by using the Alpaca `get_barset` function. Format the response as a Pandas DataFrame by including the `df` property at the end of the `get_barset` function.\n",
    "\n",
    "5. Navigating the Alpaca response DataFrame, select the `SPY` and `AGG` closing prices, and store them as variables.\n",
    "\n",
    "6. Calculate the value, in US dollars, of the current amount of shares in each of the stock and bond portions of the portfolio, and print the results.\n"
   ]
  },
  {
   "cell_type": "markdown",
   "metadata": {},
   "source": [
    "#### Review the total number of shares held in both (SPY) and (AGG)."
   ]
  },
  {
   "cell_type": "code",
   "execution_count": 16,
   "metadata": {},
   "outputs": [],
   "source": [
    "# Current amount of shares held in both the stock (SPY) and bond (AGG) portion of the portfolio.\n",
    "spy_shares = 110\n",
    "agg_shares = 200\n"
   ]
  },
  {
   "cell_type": "markdown",
   "metadata": {},
   "source": [
    "#### Step 1: In the `Starter_Code` folder, create an environment file (`.env`) to store the values of your Alpaca API key and Alpaca secret key."
   ]
  },
  {
   "cell_type": "markdown",
   "metadata": {},
   "source": [
    "#### Step 2: Set the variables for the Alpaca API and secret keys. Using the Alpaca SDK, create the Alpaca `tradeapi.REST` object. In this object, include the parameters for the Alpaca API key, the secret key, and the version number."
   ]
  },
  {
   "cell_type": "code",
   "execution_count": 17,
   "metadata": {},
   "outputs": [],
   "source": [
    "# Set the variables for the Alpaca API and secret keys\n",
    "\n",
    "alpaca_api_key = os.getenv('ALPACA_API_KEY')\n",
    "alpaca_sec_key = os.getenv('ALPACA_SECRET_KEY')\n",
    "\n",
    "# Create the Alpaca tradeapi.REST object\n",
    "\n",
    "alpaca = tradeapi.REST(alpaca_api_key,alpaca_sec_key,api_version='v2')"
   ]
  },
  {
   "cell_type": "markdown",
   "metadata": {},
   "source": [
    "#### Step 3: Set the following parameters for the Alpaca API call:\n",
    "\n",
    "- `tickers`: Use the tickers for the member’s stock and bond holdings.\n",
    "\n",
    "- `timeframe`: Use a time frame of one day.\n",
    "\n",
    "- `start_date` and `end_date`: Use the same date for these parameters, and format them with the date of the previous weekday (or `2020-08-07`). This is because you want the one closing price for the most-recent trading day.\n"
   ]
  },
  {
   "cell_type": "code",
   "execution_count": 18,
   "metadata": {},
   "outputs": [],
   "source": [
    "# Set the tickers for both the bond and stock portion of the portfolio\n",
    "tickers = ['SPY', 'AGG']\n",
    "\n",
    "# Set timeframe to 1D \n",
    "timeframe = '1D'\n",
    "\n",
    "# Format current date as ISO format\n",
    "# Set both the start and end date at the date of your prior weekday \n",
    "# This will give you the closing price of the previous trading day\n",
    "# Alternatively you can use a start and end date of 2020-08-07\n",
    "\n",
    "start_date = pd.Timestamp(\"2020-08-07\",tz=\"America/New_York\").isoformat()\n",
    "\n",
    "end_date = pd.Timestamp(\"2020-08-07\",tz=\"America/New_York\").isoformat()"
   ]
  },
  {
   "cell_type": "markdown",
   "metadata": {},
   "source": [
    "#### Step 4: Get the current closing prices for `SPY` and `AGG` by using the Alpaca `get_barset` function. Format the response as a Pandas DataFrame by including the `df` property at the end of the `get_barset` function."
   ]
  },
  {
   "cell_type": "code",
   "execution_count": 20,
   "metadata": {},
   "outputs": [
    {
     "data": {
      "text/html": [
       "<div>\n",
       "<style scoped>\n",
       "    .dataframe tbody tr th:only-of-type {\n",
       "        vertical-align: middle;\n",
       "    }\n",
       "\n",
       "    .dataframe tbody tr th {\n",
       "        vertical-align: top;\n",
       "    }\n",
       "\n",
       "    .dataframe thead tr th {\n",
       "        text-align: left;\n",
       "    }\n",
       "\n",
       "    .dataframe thead tr:last-of-type th {\n",
       "        text-align: right;\n",
       "    }\n",
       "</style>\n",
       "<table border=\"1\" class=\"dataframe\">\n",
       "  <thead>\n",
       "    <tr>\n",
       "      <th></th>\n",
       "      <th colspan=\"5\" halign=\"left\">AGG</th>\n",
       "      <th colspan=\"5\" halign=\"left\">SPY</th>\n",
       "    </tr>\n",
       "    <tr>\n",
       "      <th></th>\n",
       "      <th>open</th>\n",
       "      <th>high</th>\n",
       "      <th>low</th>\n",
       "      <th>close</th>\n",
       "      <th>volume</th>\n",
       "      <th>open</th>\n",
       "      <th>high</th>\n",
       "      <th>low</th>\n",
       "      <th>close</th>\n",
       "      <th>volume</th>\n",
       "    </tr>\n",
       "    <tr>\n",
       "      <th>time</th>\n",
       "      <th></th>\n",
       "      <th></th>\n",
       "      <th></th>\n",
       "      <th></th>\n",
       "      <th></th>\n",
       "      <th></th>\n",
       "      <th></th>\n",
       "      <th></th>\n",
       "      <th></th>\n",
       "      <th></th>\n",
       "    </tr>\n",
       "  </thead>\n",
       "  <tbody>\n",
       "    <tr>\n",
       "      <th>2020-08-07 00:00:00-04:00</th>\n",
       "      <td>119.66</td>\n",
       "      <td>119.73</td>\n",
       "      <td>119.395</td>\n",
       "      <td>119.445</td>\n",
       "      <td>8830420</td>\n",
       "      <td>333.28</td>\n",
       "      <td>334.88</td>\n",
       "      <td>332.3</td>\n",
       "      <td>334.55</td>\n",
       "      <td>98710236</td>\n",
       "    </tr>\n",
       "  </tbody>\n",
       "</table>\n",
       "</div>"
      ],
      "text/plain": [
       "                              AGG                                        SPY  \\\n",
       "                             open    high      low    close   volume    open   \n",
       "time                                                                           \n",
       "2020-08-07 00:00:00-04:00  119.66  119.73  119.395  119.445  8830420  333.28   \n",
       "\n",
       "                                                            \n",
       "                             high    low   close    volume  \n",
       "time                                                        \n",
       "2020-08-07 00:00:00-04:00  334.88  332.3  334.55  98710236  "
      ]
     },
     "execution_count": 20,
     "metadata": {},
     "output_type": "execute_result"
    }
   ],
   "source": [
    "# Use the Alpaca get_barset function to get current closing prices the portfolio\n",
    "# Be sure to set the `df` property after the function to format the response object as a DataFrame\n",
    "\n",
    "stock_df = alpaca.get_barset(tickers,timeframe,start=start_date,end=end_date).df\n",
    "\n",
    "\n",
    "# Review the first 5 rows of the Alpaca DataFrame\n",
    "stock_df.head()\n"
   ]
  },
  {
   "cell_type": "markdown",
   "metadata": {},
   "source": [
    "#### Step 5: Navigating the Alpaca response DataFrame, select the `SPY` and `AGG` closing prices, and store them as variables."
   ]
  },
  {
   "cell_type": "code",
   "execution_count": 43,
   "metadata": {},
   "outputs": [
    {
     "name": "stdout",
     "output_type": "stream",
     "text": [
      "AGG Closing Price: $119.44\n"
     ]
    }
   ],
   "source": [
    "# Access the closing price for AGG from the Alpaca DataFrame\n",
    "# Converting the value to a floating point number\n",
    "\n",
    "agg_close_price = float(stock_df['AGG']['close'])\n",
    "\n",
    "# Print the AGG closing price\n",
    "\n",
    "print(f'AGG Closing Price: ${agg_close_price:.2f}')\n",
    "      \n",
    "#or print(f${agg_close_price:.2f}')"
   ]
  },
  {
   "cell_type": "code",
   "execution_count": 50,
   "metadata": {},
   "outputs": [
    {
     "name": "stdout",
     "output_type": "stream",
     "text": [
      "SPY Closing Price: $334.55\n"
     ]
    }
   ],
   "source": [
    "# Access the closing price for SPY from the Alpaca DataFrame\n",
    "# Converting the value to a floating point number\n",
    "\n",
    "spy_close_price = float(stock_df['SPY']['close'])\n",
    "\n",
    "# Print the SPY closing price\n",
    "print(f'SPY Closing Price: ${spy_close_price:.2f}')\n"
   ]
  },
  {
   "cell_type": "markdown",
   "metadata": {},
   "source": [
    "#### Step 6: Calculate the value, in US dollars, of the current amount of shares in each of the stock and bond portions of the portfolio, and print the results."
   ]
  },
  {
   "cell_type": "code",
   "execution_count": 55,
   "metadata": {},
   "outputs": [
    {
     "name": "stdout",
     "output_type": "stream",
     "text": [
      "Bond Value of Portfolio: $23889.00\n"
     ]
    }
   ],
   "source": [
    "# Calculate the current value of the bond portion of the portfolio\n",
    "agg_value = agg_shares * agg_close_price\n",
    "\n",
    "# Print the current value of the bond portfolio\n",
    "\n",
    "print(f'Bond Value of Portfolio: ${agg_value:.2f}')"
   ]
  },
  {
   "cell_type": "code",
   "execution_count": 57,
   "metadata": {},
   "outputs": [
    {
     "name": "stdout",
     "output_type": "stream",
     "text": [
      "Stock Value of Portfolio: $36800.50\n"
     ]
    }
   ],
   "source": [
    "# Calculate the current value of the stock portion of the portfolio\n",
    "spy_value = spy_shares * spy_close_price\n",
    "\n",
    "# Print the current value of the stock portfolio\n",
    "\n",
    "print(f'Stock Value of Portfolio: ${spy_value:.2f}')"
   ]
  },
  {
   "cell_type": "code",
   "execution_count": 61,
   "metadata": {},
   "outputs": [
    {
     "name": "stdout",
     "output_type": "stream",
     "text": [
      "Combined Bond and Stock Value of Portfolio: $60689.50\n"
     ]
    }
   ],
   "source": [
    "# Calculate the total value of the stock and bond portion of the portfolio\n",
    "total_stocks_bonds = agg_value + spy_value\n",
    "\n",
    "# Print the current balance of the stock and bond portion of the portfolio\n",
    "\n",
    "print(f'Combined Bond and Stock Value of Portfolio: ${total_stocks_bonds:.2f}')"
   ]
  },
  {
   "cell_type": "code",
   "execution_count": 63,
   "metadata": {},
   "outputs": [
    {
     "name": "stdout",
     "output_type": "stream",
     "text": [
      "Total Portfolio Value: $126693.05\n"
     ]
    }
   ],
   "source": [
    "# Calculate the total value of the member's entire savings portfolio\n",
    "# Add the value of the cryptocurrency walled to the value of the total stocks and bonds\n",
    "total_portfolio = total_stocks_bonds + total_crypto_wallet\n",
    "\n",
    "# Print current cryptocurrency wallet balance\n",
    "\n",
    "print(f'Total Portfolio Value: ${total_portfolio:.2f}')"
   ]
  },
  {
   "cell_type": "markdown",
   "metadata": {},
   "source": [
    "### Evaluate the Emergency Fund\n",
    "\n",
    "In this section, you’ll use the valuations for the cryptocurrency wallet and for the stock and bond portions of the portfolio to determine if the credit union member has enough savings to build an emergency fund into their financial plan. To do this, complete the following steps:\n",
    "\n",
    "1. Create a Python list named `savings_data` that has two elements. The first element contains the total value of the cryptocurrency wallet. The second element contains the total value of the stock and bond portions of the portfolio.\n",
    "\n",
    "2. Use the `savings_data` list to create a Pandas DataFrame named `savings_df`, and then display this DataFrame. The function to create the DataFrame should take the following three parameters:\n",
    "\n",
    "    - `savings_data`: Use the list that you just created.\n",
    "\n",
    "    - `columns`: Set this parameter equal to a Python list with a single value called `amount`.\n",
    "\n",
    "    - `index`: Set this parameter equal to a Python list with the values of `crypto` and `stock/bond`.\n",
    "\n",
    "3. Use the `savings_df` DataFrame to plot a pie chart that visualizes the composition of the member’s portfolio. The y-axis of the pie chart uses `amount`. Be sure to add a title.\n",
    "\n",
    "4. Using Python, determine if the current portfolio has enough to create an emergency fund as part of the member’s financial plan. Ideally, an emergency fund should equal to three times the member’s monthly income. To do this, implement the following steps:\n",
    "\n",
    "    1. Create a variable named `emergency_fund_value`, and set it equal to three times the value of the member’s `monthly_income` of $12000. (You set this earlier in Part 1).\n",
    "\n",
    "    2. Create a series of three if statements to determine if the member’s total portfolio is large enough to fund the emergency portfolio:\n",
    "\n",
    "        1. If the total portfolio value is greater than the emergency fund value, display a message congratulating the member for having enough money in this fund.\n",
    "\n",
    "        2. Else if the total portfolio value is equal to the emergency fund value, display a message congratulating the member on reaching this important financial goal.\n",
    "\n",
    "        3. Else the total portfolio is less than the emergency fund value, so display a message showing how many dollars away the member is from reaching the goal. (Subtract the total portfolio value from the emergency fund value.)\n"
   ]
  },
  {
   "cell_type": "markdown",
   "metadata": {},
   "source": [
    "#### Step 1: Create a Python list named `savings_data` that has two elements. The first element contains the total value of the cryptocurrency wallet. The second element contains the total value of the stock and bond portions of the portfolio."
   ]
  },
  {
   "cell_type": "code",
   "execution_count": 70,
   "metadata": {},
   "outputs": [
    {
     "name": "stdout",
     "output_type": "stream",
     "text": [
      "['Total Crypto', 'Total Stocks/Bonds']\n"
     ]
    }
   ],
   "source": [
    "# Consolidate financial assets data into a Python list\n",
    "\n",
    "savings_data = ['Total Crypto', 'Total Stocks/Bonds']\n",
    "\n",
    "# Review the Python list savings_data\n",
    "\n",
    "print(savings_data)"
   ]
  },
  {
   "cell_type": "markdown",
   "metadata": {},
   "source": [
    "#### Step 2: Use the `savings_data` list to create a Pandas DataFrame named `savings_df`, and then display this DataFrame. The function to create the DataFrame should take the following three parameters:\n",
    "\n",
    "- `savings_data`: Use the list that you just created.\n",
    "\n",
    "- `columns`: Set this parameter equal to a Python list with a single value called `amount`.\n",
    "\n",
    "- `index`: Set this parameter equal to a Python list with the values of `crypto` and `stock/bond`.\n"
   ]
  },
  {
   "cell_type": "code",
   "execution_count": 89,
   "metadata": {},
   "outputs": [
    {
     "data": {
      "text/html": [
       "<div>\n",
       "<style scoped>\n",
       "    .dataframe tbody tr th:only-of-type {\n",
       "        vertical-align: middle;\n",
       "    }\n",
       "\n",
       "    .dataframe tbody tr th {\n",
       "        vertical-align: top;\n",
       "    }\n",
       "\n",
       "    .dataframe thead th {\n",
       "        text-align: right;\n",
       "    }\n",
       "</style>\n",
       "<table border=\"1\" class=\"dataframe\">\n",
       "  <thead>\n",
       "    <tr style=\"text-align: right;\">\n",
       "      <th></th>\n",
       "      <th>Amount</th>\n",
       "    </tr>\n",
       "  </thead>\n",
       "  <tbody>\n",
       "    <tr>\n",
       "      <th>Total Crypto</th>\n",
       "      <td>66003.548</td>\n",
       "    </tr>\n",
       "    <tr>\n",
       "      <th>Total Stocks/Bonds</th>\n",
       "      <td>60689.500</td>\n",
       "    </tr>\n",
       "  </tbody>\n",
       "</table>\n",
       "</div>"
      ],
      "text/plain": [
       "                       Amount\n",
       "Total Crypto        66003.548\n",
       "Total Stocks/Bonds  60689.500"
      ]
     },
     "execution_count": 89,
     "metadata": {},
     "output_type": "execute_result"
    }
   ],
   "source": [
    "# Create a Pandas DataFrame called savings_df \n",
    "\n",
    "savings_df = pd.DataFrame(\n",
    "    {\"Amount\": [total_crypto_wallet, total_stocks_bonds]},\n",
    "    index= savings_data\n",
    ")\n",
    "    \n",
    "\n",
    "# Display the savings_df DataFrame\n",
    "\n",
    "savings_df"
   ]
  },
  {
   "cell_type": "markdown",
   "metadata": {},
   "source": [
    "#### Step 3: Use the `savings_df` DataFrame to plot a pie chart that visualizes the composition of the member’s portfolio. The y-axis of the pie chart uses `amount`. Be sure to add a title."
   ]
  },
  {
   "cell_type": "code",
   "execution_count": 101,
   "metadata": {},
   "outputs": [
    {
     "data": {
      "text/plain": [
       "<AxesSubplot:title={'center':'Protfolio Compostion for Jane Doe'}, ylabel='Amount'>"
      ]
     },
     "execution_count": 101,
     "metadata": {},
     "output_type": "execute_result"
    },
    {
     "data": {
      "image/png": "[encoded data removed]",
      "text/plain": [
       "<Figure size 1080x504 with 1 Axes>"
      ]
     },
     "metadata": {},
     "output_type": "display_data"
    }
   ],
   "source": [
    "# Plot the total value of the member's portfolio (crypto and stock/bond) in a pie chart\n",
    "\n",
    "savings_df.plot(\n",
    "    kind='pie',\n",
    "    y='Amount',\n",
    "    title='Protfolio Compostion for Jane Doe',\n",
    "    figsize=(15,7)\n",
    ")\n"
   ]
  },
  {
   "cell_type": "markdown",
   "metadata": {},
   "source": [
    "#### Step 4: Using Python, determine if the current portfolio has enough to create an emergency fund as part of the member’s financial plan. Ideally, an emergency fund should equal to three times the member’s monthly income. To do this, implement the following steps:\n",
    "\n",
    "Step 1. Create a variable named `emergency_fund_value`, and set it equal to three times the value of the member’s `monthly_income` of 12000. (You set this earlier in Part 1).\n",
    "\n",
    "Step 2. Create a series of three if statements to determine if the member’s total portfolio is large enough to fund the emergency portfolio:\n",
    "\n",
    "* If the total portfolio value is greater than the emergency fund value, display a message congratulating the member for having enough money in this fund.\n",
    "\n",
    "* Else if the total portfolio value is equal to the emergency fund value, display a message congratulating the member on reaching this important financial goal.\n",
    "\n",
    "* Else the total portfolio is less than the emergency fund value, so display a message showing how many dollars away the member is from reaching the goal. (Subtract the total portfolio value from the emergency fund value.)\n"
   ]
  },
  {
   "cell_type": "markdown",
   "metadata": {},
   "source": [
    "##### Step 4-1: Create a variable named `emergency_fund_value`, and set it equal to three times the value of the member’s `monthly_income` of 12000. (You set this earlier in Part 1)."
   ]
  },
  {
   "cell_type": "code",
   "execution_count": 107,
   "metadata": {},
   "outputs": [
    {
     "name": "stdout",
     "output_type": "stream",
     "text": [
      "Approxiamte Value of Emergency Fund: $36000.00\n"
     ]
    }
   ],
   "source": [
    "# Create a variable named emergency_fund_value\n",
    "\n",
    "emergency_fund_value = monthly_income * 3\n",
    "\n",
    "print(f\"Approxiamte Value of Emergency Fund: ${emergency_fund_value:.2f}\")"
   ]
  },
  {
   "cell_type": "markdown",
   "metadata": {},
   "source": [
    "##### Step 4-2: Create a series of three if statements to determine if the member’s total portfolio is large enough to fund the emergency portfolio:\n",
    "\n",
    "* If the total portfolio value is greater than the emergency fund value, display a message congratulating the member for having enough money in this fund.\n",
    "\n",
    "* Else if the total portfolio value is equal to the emergency fund value, display a message congratulating the member on reaching this important financial goal.\n",
    "\n",
    "* Else the total portfolio is less than the emergency fund value, so display a message showing how many dollars away the member is from reaching the goal. (Subtract the total portfolio value from the emergency fund value.)"
   ]
  },
  {
   "cell_type": "code",
   "execution_count": 125,
   "metadata": {},
   "outputs": [
    {
     "name": "stdout",
     "output_type": "stream",
     "text": [
      "Well done! You have exceed the required minimum to set up an Emergency Fund.\n"
     ]
    }
   ],
   "source": [
    "# Evaluate the possibility of creating an emergency fund with 3 conditions:\n",
    "\n",
    "if total_portfolio > emergency_fund_value:\n",
    "    print('Well done! You have exceed the required minimum to set up an Emergency Fund.')\n",
    "elif total_protfolio == emergency_fund_value:\n",
    "    print('Great job! you have reached the required amount to start an Emergency Fund.')\n",
    "elif total_portfolio < emergency_fund_value:\n",
    "    print('This how much more we need to start the Emergency Fund: ${emergency_fund_value - savings_df:,.2f}') \n"
   ]
  },
  {
   "cell_type": "markdown",
   "metadata": {},
   "source": [
    "## Part 2: Create a Financial Planner for Retirement"
   ]
  },
  {
   "cell_type": "markdown",
   "metadata": {},
   "source": [
    "### Create the Monte Carlo Simulation\n",
    "\n",
    "In this section, you’ll use the MCForecastTools library to create a Monte Carlo simulation for the member’s savings portfolio. To do this, complete the following steps:\n",
    "\n",
    "1. Make an API call via the Alpaca SDK to get 3 years of historical closing prices for a traditional 60/40 portfolio split: 60% stocks (SPY) and 40% bonds (AGG).\n",
    "\n",
    "2. Run a Monte Carlo simulation of 500 samples and 30 years for the 60/40 portfolio, and then plot the results.The following image shows the overlay line plot resulting from a simulation with these characteristics. However, because a random number generator is used to run each live Monte Carlo simulation, your image will differ slightly from this exact image:\n",
    "\n",
    "![A screenshot depicts the resulting plot.](Images/5-4-monte-carlo-line-plot.png)\n",
    "\n",
    "3. Plot the probability distribution of the Monte Carlo simulation. Plot the probability distribution of the Monte Carlo simulation. The following image shows the histogram plot resulting from a simulation with these characteristics. However, because a random number generator is used to run each live Monte Carlo simulation, your image will differ slightly from this exact image:\n",
    "\n",
    "![A screenshot depicts the histogram plot.](Images/5-4-monte-carlo-histogram.png)\n",
    "\n",
    "4. Generate the summary statistics for the Monte Carlo simulation.\n",
    "\n"
   ]
  },
  {
   "cell_type": "markdown",
   "metadata": {},
   "source": [
    "#### Step 1: Make an API call via the Alpaca SDK to get 3 years of historical closing prices for a traditional 60/40 portfolio split: 60% stocks (SPY) and 40% bonds (AGG)."
   ]
  },
  {
   "cell_type": "code",
   "execution_count": 129,
   "metadata": {},
   "outputs": [],
   "source": [
    "# Set start and end dates of 3 years back from your current date\n",
    "# Alternatively, you can use an end date of 2020-08-07 and work 3 years back from that date\n",
    "\n",
    "start_yr_bf = pd.Timestamp(\"2017-08-07\",tz=\"America/New_York\").isoformat()\n",
    "end_date = pd.Timestamp(\"2020-08-07\",tz=\"America/New_York\").isoformat()\n",
    "\n",
    "\n",
    "\n",
    "# Set number of rows to 1000 to retrieve the maximum amount of rows\n",
    "limit_rows = 1000"
   ]
  },
  {
   "cell_type": "code",
   "execution_count": 132,
   "metadata": {},
   "outputs": [
    {
     "name": "stdout",
     "output_type": "stream",
     "text": [
      "2017-08-07T00:00:00-04:00\n",
      "                              AGG                                         \\\n",
      "                             open    high       low     close     volume   \n",
      "time                                                                       \n",
      "2017-08-07 00:00:00-04:00  109.69  109.72  109.6066  109.6850  1425317.0   \n",
      "2017-08-08 00:00:00-04:00  109.67  109.69  109.5000  109.5810  1998999.0   \n",
      "2017-08-09 00:00:00-04:00  109.87  109.87  109.6600  109.6700  2069028.0   \n",
      "2017-08-10 00:00:00-04:00  109.70  109.85  109.6700  109.8053  1691677.0   \n",
      "2017-08-11 00:00:00-04:00  109.75  109.94  109.6800  109.8850  1613467.0   \n",
      "\n",
      "                              SPY                                     \n",
      "                             open    high     low    close    volume  \n",
      "time                                                                  \n",
      "2017-08-07 00:00:00-04:00  247.49  247.87  247.37  247.850  20901988  \n",
      "2017-08-08 00:00:00-04:00  247.51  248.91  246.83  247.291  44619069  \n",
      "2017-08-09 00:00:00-04:00  246.47  247.31  246.06  247.230  48543032  \n",
      "2017-08-10 00:00:00-04:00  246.28  246.44  243.70  243.790  87857827  \n",
      "2017-08-11 00:00:00-04:00  244.02  244.80  243.75  244.110  56404847  \n",
      "                              AGG                                         \\\n",
      "                             open    high       low    close      volume   \n",
      "time                                                                       \n",
      "2020-08-03 00:00:00-04:00  119.37  119.40  119.1903  119.400  17837420.0   \n",
      "2020-08-04 00:00:00-04:00  119.42  119.63  119.4200  119.630  21512268.0   \n",
      "2020-08-05 00:00:00-04:00  119.39  119.49  119.3100  119.400  34175883.0   \n",
      "2020-08-06 00:00:00-04:00  119.62  119.73  119.5300  119.580   9009216.0   \n",
      "2020-08-07 00:00:00-04:00  119.66  119.73  119.3950  119.445   8830420.0   \n",
      "\n",
      "                                SPY                                    \n",
      "                               open    high     low   close    volume  \n",
      "time                                                                   \n",
      "2020-08-03 00:00:00-04:00  328.3200  329.62  327.73  328.76  71741125  \n",
      "2020-08-04 00:00:00-04:00  327.8600  330.06  327.86  330.03  73684427  \n",
      "2020-08-05 00:00:00-04:00  331.4700  332.39  331.18  332.06  72846458  \n",
      "2020-08-06 00:00:00-04:00  331.4799  334.46  331.13  334.31  76900649  \n",
      "2020-08-07 00:00:00-04:00  333.2800  334.88  332.30  334.55  98710236  \n"
     ]
    }
   ],
   "source": [
    "# Use the Alpaca get_barset function to make the API call to get the 3 years worth of pricing data\n",
    "# The tickers and timeframe parameters should have been set in Part 1 of this activity \n",
    "# The start and end dates should be updated with the information set above\n",
    "# Remember to add the df property to the end of the call so the response is returned as a DataFrame\n",
    "\n",
    "prev_close = alpaca.get_barset(\n",
    "    tickers,\n",
    "    timeframe,\n",
    "    start=start_yr_bf,\n",
    "    end=end_date,\n",
    "    limit=limit_rows\n",
    ").df\n",
    "    \n",
    "\n",
    "\n",
    "# Display both the first and last five rows of the DataFrame\n",
    "print(start_yr_bf)\n",
    "print(prev_close.head())\n",
    "print(prev_close.tail())\n"
   ]
  },
  {
   "cell_type": "markdown",
   "metadata": {},
   "source": [
    "#### Step 2: Run a Monte Carlo simulation of 500 samples and 30 years for the 60/40 portfolio, and then plot the results."
   ]
  },
  {
   "cell_type": "code",
   "execution_count": 167,
   "metadata": {},
   "outputs": [
    {
     "data": {
      "text/html": [
       "<div>\n",
       "<style scoped>\n",
       "    .dataframe tbody tr th:only-of-type {\n",
       "        vertical-align: middle;\n",
       "    }\n",
       "\n",
       "    .dataframe tbody tr th {\n",
       "        vertical-align: top;\n",
       "    }\n",
       "\n",
       "    .dataframe thead tr th {\n",
       "        text-align: left;\n",
       "    }\n",
       "\n",
       "    .dataframe thead tr:last-of-type th {\n",
       "        text-align: right;\n",
       "    }\n",
       "</style>\n",
       "<table border=\"1\" class=\"dataframe\">\n",
       "  <thead>\n",
       "    <tr>\n",
       "      <th></th>\n",
       "      <th colspan=\"6\" halign=\"left\">AGG</th>\n",
       "      <th colspan=\"6\" halign=\"left\">SPY</th>\n",
       "    </tr>\n",
       "    <tr>\n",
       "      <th></th>\n",
       "      <th>open</th>\n",
       "      <th>high</th>\n",
       "      <th>low</th>\n",
       "      <th>close</th>\n",
       "      <th>volume</th>\n",
       "      <th>daily_return</th>\n",
       "      <th>open</th>\n",
       "      <th>high</th>\n",
       "      <th>low</th>\n",
       "      <th>close</th>\n",
       "      <th>volume</th>\n",
       "      <th>daily_return</th>\n",
       "    </tr>\n",
       "    <tr>\n",
       "      <th>time</th>\n",
       "      <th></th>\n",
       "      <th></th>\n",
       "      <th></th>\n",
       "      <th></th>\n",
       "      <th></th>\n",
       "      <th></th>\n",
       "      <th></th>\n",
       "      <th></th>\n",
       "      <th></th>\n",
       "      <th></th>\n",
       "      <th></th>\n",
       "      <th></th>\n",
       "    </tr>\n",
       "  </thead>\n",
       "  <tbody>\n",
       "    <tr>\n",
       "      <th>2017-08-07 00:00:00-04:00</th>\n",
       "      <td>109.69</td>\n",
       "      <td>109.72</td>\n",
       "      <td>109.6066</td>\n",
       "      <td>109.6850</td>\n",
       "      <td>1425317.0</td>\n",
       "      <td>NaN</td>\n",
       "      <td>247.49</td>\n",
       "      <td>247.87</td>\n",
       "      <td>247.37</td>\n",
       "      <td>247.850</td>\n",
       "      <td>20901988</td>\n",
       "      <td>NaN</td>\n",
       "    </tr>\n",
       "    <tr>\n",
       "      <th>2017-08-08 00:00:00-04:00</th>\n",
       "      <td>109.67</td>\n",
       "      <td>109.69</td>\n",
       "      <td>109.5000</td>\n",
       "      <td>109.5810</td>\n",
       "      <td>1998999.0</td>\n",
       "      <td>-0.000948</td>\n",
       "      <td>247.51</td>\n",
       "      <td>248.91</td>\n",
       "      <td>246.83</td>\n",
       "      <td>247.291</td>\n",
       "      <td>44619069</td>\n",
       "      <td>-0.002255</td>\n",
       "    </tr>\n",
       "    <tr>\n",
       "      <th>2017-08-09 00:00:00-04:00</th>\n",
       "      <td>109.87</td>\n",
       "      <td>109.87</td>\n",
       "      <td>109.6600</td>\n",
       "      <td>109.6700</td>\n",
       "      <td>2069028.0</td>\n",
       "      <td>0.000812</td>\n",
       "      <td>246.47</td>\n",
       "      <td>247.31</td>\n",
       "      <td>246.06</td>\n",
       "      <td>247.230</td>\n",
       "      <td>48543032</td>\n",
       "      <td>-0.000247</td>\n",
       "    </tr>\n",
       "    <tr>\n",
       "      <th>2017-08-10 00:00:00-04:00</th>\n",
       "      <td>109.70</td>\n",
       "      <td>109.85</td>\n",
       "      <td>109.6700</td>\n",
       "      <td>109.8053</td>\n",
       "      <td>1691677.0</td>\n",
       "      <td>0.001234</td>\n",
       "      <td>246.28</td>\n",
       "      <td>246.44</td>\n",
       "      <td>243.70</td>\n",
       "      <td>243.790</td>\n",
       "      <td>87857827</td>\n",
       "      <td>-0.013914</td>\n",
       "    </tr>\n",
       "    <tr>\n",
       "      <th>2017-08-11 00:00:00-04:00</th>\n",
       "      <td>109.75</td>\n",
       "      <td>109.94</td>\n",
       "      <td>109.6800</td>\n",
       "      <td>109.8850</td>\n",
       "      <td>1613467.0</td>\n",
       "      <td>0.000726</td>\n",
       "      <td>244.02</td>\n",
       "      <td>244.80</td>\n",
       "      <td>243.75</td>\n",
       "      <td>244.110</td>\n",
       "      <td>56404847</td>\n",
       "      <td>0.001313</td>\n",
       "    </tr>\n",
       "  </tbody>\n",
       "</table>\n",
       "</div>"
      ],
      "text/plain": [
       "                              AGG                                         \\\n",
       "                             open    high       low     close     volume   \n",
       "time                                                                       \n",
       "2017-08-07 00:00:00-04:00  109.69  109.72  109.6066  109.6850  1425317.0   \n",
       "2017-08-08 00:00:00-04:00  109.67  109.69  109.5000  109.5810  1998999.0   \n",
       "2017-08-09 00:00:00-04:00  109.87  109.87  109.6600  109.6700  2069028.0   \n",
       "2017-08-10 00:00:00-04:00  109.70  109.85  109.6700  109.8053  1691677.0   \n",
       "2017-08-11 00:00:00-04:00  109.75  109.94  109.6800  109.8850  1613467.0   \n",
       "\n",
       "                                           SPY                           \\\n",
       "                          daily_return    open    high     low    close   \n",
       "time                                                                      \n",
       "2017-08-07 00:00:00-04:00          NaN  247.49  247.87  247.37  247.850   \n",
       "2017-08-08 00:00:00-04:00    -0.000948  247.51  248.91  246.83  247.291   \n",
       "2017-08-09 00:00:00-04:00     0.000812  246.47  247.31  246.06  247.230   \n",
       "2017-08-10 00:00:00-04:00     0.001234  246.28  246.44  243.70  243.790   \n",
       "2017-08-11 00:00:00-04:00     0.000726  244.02  244.80  243.75  244.110   \n",
       "\n",
       "                                                  \n",
       "                             volume daily_return  \n",
       "time                                              \n",
       "2017-08-07 00:00:00-04:00  20901988          NaN  \n",
       "2017-08-08 00:00:00-04:00  44619069    -0.002255  \n",
       "2017-08-09 00:00:00-04:00  48543032    -0.000247  \n",
       "2017-08-10 00:00:00-04:00  87857827    -0.013914  \n",
       "2017-08-11 00:00:00-04:00  56404847     0.001313  "
      ]
     },
     "execution_count": 167,
     "metadata": {},
     "output_type": "execute_result"
    }
   ],
   "source": [
    "# Configure the Monte Carlo simulation to forecast 30 years cumulative returns\n",
    "# The weights should be split 40% to AGG and 60% to SPY.\n",
    "# Run 500 samples.\n",
    "\n",
    "monte_carlo_simulation = MCSimulation(\n",
    "    portfolio_data= prev_close,\n",
    "    weights=[.40,.60],\n",
    "    num_simulation=500,\n",
    "    num_trading_days = 252 * 3)\n",
    "\n",
    "\n",
    "# Review the simulation input data\n",
    "monte_carlo_simulation.portfolio_data.head()\n"
   ]
  },
  {
   "cell_type": "code",
   "execution_count": 168,
   "metadata": {},
   "outputs": [
    {
     "name": "stdout",
     "output_type": "stream",
     "text": [
      "Running Monte Carlo simulation number 0.\n",
      "Running Monte Carlo simulation number 10.\n",
      "Running Monte Carlo simulation number 20.\n",
      "Running Monte Carlo simulation number 30.\n",
      "Running Monte Carlo simulation number 40.\n",
      "Running Monte Carlo simulation number 50.\n",
      "Running Monte Carlo simulation number 60.\n",
      "Running Monte Carlo simulation number 70.\n",
      "Running Monte Carlo simulation number 80.\n",
      "Running Monte Carlo simulation number 90.\n",
      "Running Monte Carlo simulation number 100.\n"
     ]
    },
    {
     "name": "stderr",
     "output_type": "stream",
     "text": [
      "/Users/daniels.english/Documents/UCBE_Bootcamp/apis_workset/MCForecastTools.py:117: PerformanceWarning: DataFrame is highly fragmented.  This is usually the result of calling `frame.insert` many times, which has poor performance.  Consider joining all columns at once using pd.concat(axis=1) instead.  To get a de-fragmented frame, use `newframe = frame.copy()`\n",
      "  portfolio_cumulative_returns[n] = (1 + sim_df.fillna(0)).cumprod()\n"
     ]
    },
    {
     "name": "stdout",
     "output_type": "stream",
     "text": [
      "Running Monte Carlo simulation number 110.\n",
      "Running Monte Carlo simulation number 120.\n",
      "Running Monte Carlo simulation number 130.\n",
      "Running Monte Carlo simulation number 140.\n",
      "Running Monte Carlo simulation number 150.\n",
      "Running Monte Carlo simulation number 160.\n",
      "Running Monte Carlo simulation number 170.\n",
      "Running Monte Carlo simulation number 180.\n",
      "Running Monte Carlo simulation number 190.\n",
      "Running Monte Carlo simulation number 200.\n",
      "Running Monte Carlo simulation number 210.\n",
      "Running Monte Carlo simulation number 220.\n",
      "Running Monte Carlo simulation number 230.\n",
      "Running Monte Carlo simulation number 240.\n",
      "Running Monte Carlo simulation number 250.\n",
      "Running Monte Carlo simulation number 260.\n",
      "Running Monte Carlo simulation number 270.\n",
      "Running Monte Carlo simulation number 280.\n",
      "Running Monte Carlo simulation number 290.\n",
      "Running Monte Carlo simulation number 300.\n",
      "Running Monte Carlo simulation number 310.\n",
      "Running Monte Carlo simulation number 320.\n",
      "Running Monte Carlo simulation number 330.\n",
      "Running Monte Carlo simulation number 340.\n",
      "Running Monte Carlo simulation number 350.\n",
      "Running Monte Carlo simulation number 360.\n",
      "Running Monte Carlo simulation number 370.\n",
      "Running Monte Carlo simulation number 380.\n",
      "Running Monte Carlo simulation number 390.\n",
      "Running Monte Carlo simulation number 400.\n",
      "Running Monte Carlo simulation number 410.\n",
      "Running Monte Carlo simulation number 420.\n",
      "Running Monte Carlo simulation number 430.\n",
      "Running Monte Carlo simulation number 440.\n",
      "Running Monte Carlo simulation number 450.\n",
      "Running Monte Carlo simulation number 460.\n",
      "Running Monte Carlo simulation number 470.\n",
      "Running Monte Carlo simulation number 480.\n",
      "Running Monte Carlo simulation number 490.\n"
     ]
    },
    {
     "data": {
      "text/html": [
       "<div>\n",
       "<style scoped>\n",
       "    .dataframe tbody tr th:only-of-type {\n",
       "        vertical-align: middle;\n",
       "    }\n",
       "\n",
       "    .dataframe tbody tr th {\n",
       "        vertical-align: top;\n",
       "    }\n",
       "\n",
       "    .dataframe thead th {\n",
       "        text-align: right;\n",
       "    }\n",
       "</style>\n",
       "<table border=\"1\" class=\"dataframe\">\n",
       "  <thead>\n",
       "    <tr style=\"text-align: right;\">\n",
       "      <th></th>\n",
       "      <th>0</th>\n",
       "      <th>1</th>\n",
       "      <th>2</th>\n",
       "      <th>3</th>\n",
       "      <th>4</th>\n",
       "      <th>5</th>\n",
       "      <th>6</th>\n",
       "      <th>7</th>\n",
       "      <th>8</th>\n",
       "      <th>9</th>\n",
       "      <th>...</th>\n",
       "      <th>490</th>\n",
       "      <th>491</th>\n",
       "      <th>492</th>\n",
       "      <th>493</th>\n",
       "      <th>494</th>\n",
       "      <th>495</th>\n",
       "      <th>496</th>\n",
       "      <th>497</th>\n",
       "      <th>498</th>\n",
       "      <th>499</th>\n",
       "    </tr>\n",
       "  </thead>\n",
       "  <tbody>\n",
       "    <tr>\n",
       "      <th>0</th>\n",
       "      <td>1.000000</td>\n",
       "      <td>1.000000</td>\n",
       "      <td>1.000000</td>\n",
       "      <td>1.000000</td>\n",
       "      <td>1.000000</td>\n",
       "      <td>1.000000</td>\n",
       "      <td>1.000000</td>\n",
       "      <td>1.000000</td>\n",
       "      <td>1.000000</td>\n",
       "      <td>1.000000</td>\n",
       "      <td>...</td>\n",
       "      <td>1.000000</td>\n",
       "      <td>1.000000</td>\n",
       "      <td>1.000000</td>\n",
       "      <td>1.000000</td>\n",
       "      <td>1.000000</td>\n",
       "      <td>1.000000</td>\n",
       "      <td>1.000000</td>\n",
       "      <td>1.000000</td>\n",
       "      <td>1.000000</td>\n",
       "      <td>1.000000</td>\n",
       "    </tr>\n",
       "    <tr>\n",
       "      <th>1</th>\n",
       "      <td>1.010481</td>\n",
       "      <td>0.995311</td>\n",
       "      <td>0.998435</td>\n",
       "      <td>1.020231</td>\n",
       "      <td>0.999178</td>\n",
       "      <td>0.990810</td>\n",
       "      <td>0.989143</td>\n",
       "      <td>0.998873</td>\n",
       "      <td>1.005089</td>\n",
       "      <td>1.003760</td>\n",
       "      <td>...</td>\n",
       "      <td>0.983402</td>\n",
       "      <td>1.001606</td>\n",
       "      <td>0.989942</td>\n",
       "      <td>1.008624</td>\n",
       "      <td>0.995711</td>\n",
       "      <td>0.995747</td>\n",
       "      <td>0.999774</td>\n",
       "      <td>1.009962</td>\n",
       "      <td>1.015804</td>\n",
       "      <td>0.996649</td>\n",
       "    </tr>\n",
       "    <tr>\n",
       "      <th>2</th>\n",
       "      <td>1.019443</td>\n",
       "      <td>0.996675</td>\n",
       "      <td>0.994175</td>\n",
       "      <td>1.013635</td>\n",
       "      <td>0.999886</td>\n",
       "      <td>0.980600</td>\n",
       "      <td>0.999186</td>\n",
       "      <td>1.001597</td>\n",
       "      <td>0.998023</td>\n",
       "      <td>1.015486</td>\n",
       "      <td>...</td>\n",
       "      <td>0.977344</td>\n",
       "      <td>1.002225</td>\n",
       "      <td>0.985600</td>\n",
       "      <td>1.010574</td>\n",
       "      <td>0.985366</td>\n",
       "      <td>0.989964</td>\n",
       "      <td>0.998798</td>\n",
       "      <td>1.012744</td>\n",
       "      <td>1.031752</td>\n",
       "      <td>0.998241</td>\n",
       "    </tr>\n",
       "    <tr>\n",
       "      <th>3</th>\n",
       "      <td>1.015406</td>\n",
       "      <td>0.994671</td>\n",
       "      <td>0.994042</td>\n",
       "      <td>1.022209</td>\n",
       "      <td>0.989075</td>\n",
       "      <td>0.984673</td>\n",
       "      <td>0.988319</td>\n",
       "      <td>1.018517</td>\n",
       "      <td>1.001024</td>\n",
       "      <td>1.016308</td>\n",
       "      <td>...</td>\n",
       "      <td>0.982504</td>\n",
       "      <td>1.020909</td>\n",
       "      <td>0.993327</td>\n",
       "      <td>1.022211</td>\n",
       "      <td>0.977857</td>\n",
       "      <td>1.016550</td>\n",
       "      <td>0.996485</td>\n",
       "      <td>1.004038</td>\n",
       "      <td>1.029830</td>\n",
       "      <td>1.012463</td>\n",
       "    </tr>\n",
       "    <tr>\n",
       "      <th>4</th>\n",
       "      <td>1.015498</td>\n",
       "      <td>0.979587</td>\n",
       "      <td>0.985923</td>\n",
       "      <td>1.016654</td>\n",
       "      <td>0.994660</td>\n",
       "      <td>0.991589</td>\n",
       "      <td>1.001693</td>\n",
       "      <td>1.019551</td>\n",
       "      <td>1.008598</td>\n",
       "      <td>1.016971</td>\n",
       "      <td>...</td>\n",
       "      <td>0.972208</td>\n",
       "      <td>1.029616</td>\n",
       "      <td>0.985592</td>\n",
       "      <td>1.013736</td>\n",
       "      <td>0.979137</td>\n",
       "      <td>1.010212</td>\n",
       "      <td>1.000464</td>\n",
       "      <td>1.012856</td>\n",
       "      <td>1.029391</td>\n",
       "      <td>0.996915</td>\n",
       "    </tr>\n",
       "    <tr>\n",
       "      <th>...</th>\n",
       "      <td>...</td>\n",
       "      <td>...</td>\n",
       "      <td>...</td>\n",
       "      <td>...</td>\n",
       "      <td>...</td>\n",
       "      <td>...</td>\n",
       "      <td>...</td>\n",
       "      <td>...</td>\n",
       "      <td>...</td>\n",
       "      <td>...</td>\n",
       "      <td>...</td>\n",
       "      <td>...</td>\n",
       "      <td>...</td>\n",
       "      <td>...</td>\n",
       "      <td>...</td>\n",
       "      <td>...</td>\n",
       "      <td>...</td>\n",
       "      <td>...</td>\n",
       "      <td>...</td>\n",
       "      <td>...</td>\n",
       "      <td>...</td>\n",
       "    </tr>\n",
       "    <tr>\n",
       "      <th>7556</th>\n",
       "      <td>5.285144</td>\n",
       "      <td>12.062350</td>\n",
       "      <td>18.922954</td>\n",
       "      <td>10.110610</td>\n",
       "      <td>5.455361</td>\n",
       "      <td>4.536379</td>\n",
       "      <td>13.715009</td>\n",
       "      <td>2.336913</td>\n",
       "      <td>12.619346</td>\n",
       "      <td>5.938726</td>\n",
       "      <td>...</td>\n",
       "      <td>4.330472</td>\n",
       "      <td>32.530121</td>\n",
       "      <td>6.526203</td>\n",
       "      <td>10.394457</td>\n",
       "      <td>34.369781</td>\n",
       "      <td>9.034452</td>\n",
       "      <td>10.661642</td>\n",
       "      <td>13.224225</td>\n",
       "      <td>11.823337</td>\n",
       "      <td>4.385809</td>\n",
       "    </tr>\n",
       "    <tr>\n",
       "      <th>7557</th>\n",
       "      <td>5.344881</td>\n",
       "      <td>12.092782</td>\n",
       "      <td>18.849198</td>\n",
       "      <td>10.309664</td>\n",
       "      <td>5.435987</td>\n",
       "      <td>4.482698</td>\n",
       "      <td>13.536049</td>\n",
       "      <td>2.347701</td>\n",
       "      <td>12.756962</td>\n",
       "      <td>5.973259</td>\n",
       "      <td>...</td>\n",
       "      <td>4.329026</td>\n",
       "      <td>32.095851</td>\n",
       "      <td>6.580987</td>\n",
       "      <td>10.384656</td>\n",
       "      <td>34.280758</td>\n",
       "      <td>9.027280</td>\n",
       "      <td>10.647615</td>\n",
       "      <td>13.181893</td>\n",
       "      <td>11.871846</td>\n",
       "      <td>4.391866</td>\n",
       "    </tr>\n",
       "    <tr>\n",
       "      <th>7558</th>\n",
       "      <td>5.354466</td>\n",
       "      <td>12.007097</td>\n",
       "      <td>19.009553</td>\n",
       "      <td>10.346303</td>\n",
       "      <td>5.428722</td>\n",
       "      <td>4.495717</td>\n",
       "      <td>13.632349</td>\n",
       "      <td>2.348489</td>\n",
       "      <td>12.697603</td>\n",
       "      <td>6.066412</td>\n",
       "      <td>...</td>\n",
       "      <td>4.348248</td>\n",
       "      <td>32.149361</td>\n",
       "      <td>6.579746</td>\n",
       "      <td>10.390784</td>\n",
       "      <td>34.244936</td>\n",
       "      <td>9.077254</td>\n",
       "      <td>10.714523</td>\n",
       "      <td>13.232165</td>\n",
       "      <td>11.968144</td>\n",
       "      <td>4.352492</td>\n",
       "    </tr>\n",
       "    <tr>\n",
       "      <th>7559</th>\n",
       "      <td>5.338208</td>\n",
       "      <td>12.002549</td>\n",
       "      <td>18.963519</td>\n",
       "      <td>10.338532</td>\n",
       "      <td>5.346284</td>\n",
       "      <td>4.551571</td>\n",
       "      <td>13.711913</td>\n",
       "      <td>2.368894</td>\n",
       "      <td>12.726810</td>\n",
       "      <td>6.042720</td>\n",
       "      <td>...</td>\n",
       "      <td>4.348622</td>\n",
       "      <td>32.361840</td>\n",
       "      <td>6.523304</td>\n",
       "      <td>10.458344</td>\n",
       "      <td>34.077894</td>\n",
       "      <td>9.193761</td>\n",
       "      <td>10.538552</td>\n",
       "      <td>13.335945</td>\n",
       "      <td>12.083797</td>\n",
       "      <td>4.365180</td>\n",
       "    </tr>\n",
       "    <tr>\n",
       "      <th>7560</th>\n",
       "      <td>5.451431</td>\n",
       "      <td>11.936113</td>\n",
       "      <td>18.866439</td>\n",
       "      <td>10.305952</td>\n",
       "      <td>5.297367</td>\n",
       "      <td>4.466083</td>\n",
       "      <td>13.665844</td>\n",
       "      <td>2.359797</td>\n",
       "      <td>12.778764</td>\n",
       "      <td>6.038155</td>\n",
       "      <td>...</td>\n",
       "      <td>4.381038</td>\n",
       "      <td>32.298673</td>\n",
       "      <td>6.578748</td>\n",
       "      <td>10.417144</td>\n",
       "      <td>33.870457</td>\n",
       "      <td>9.175873</td>\n",
       "      <td>10.568986</td>\n",
       "      <td>13.451815</td>\n",
       "      <td>12.178018</td>\n",
       "      <td>4.353636</td>\n",
       "    </tr>\n",
       "  </tbody>\n",
       "</table>\n",
       "<p>7561 rows × 500 columns</p>\n",
       "</div>"
      ],
      "text/plain": [
       "           0          1          2          3         4         5    \\\n",
       "0     1.000000   1.000000   1.000000   1.000000  1.000000  1.000000   \n",
       "1     1.010481   0.995311   0.998435   1.020231  0.999178  0.990810   \n",
       "2     1.019443   0.996675   0.994175   1.013635  0.999886  0.980600   \n",
       "3     1.015406   0.994671   0.994042   1.022209  0.989075  0.984673   \n",
       "4     1.015498   0.979587   0.985923   1.016654  0.994660  0.991589   \n",
       "...        ...        ...        ...        ...       ...       ...   \n",
       "7556  5.285144  12.062350  18.922954  10.110610  5.455361  4.536379   \n",
       "7557  5.344881  12.092782  18.849198  10.309664  5.435987  4.482698   \n",
       "7558  5.354466  12.007097  19.009553  10.346303  5.428722  4.495717   \n",
       "7559  5.338208  12.002549  18.963519  10.338532  5.346284  4.551571   \n",
       "7560  5.451431  11.936113  18.866439  10.305952  5.297367  4.466083   \n",
       "\n",
       "            6         7          8         9    ...       490        491  \\\n",
       "0      1.000000  1.000000   1.000000  1.000000  ...  1.000000   1.000000   \n",
       "1      0.989143  0.998873   1.005089  1.003760  ...  0.983402   1.001606   \n",
       "2      0.999186  1.001597   0.998023  1.015486  ...  0.977344   1.002225   \n",
       "3      0.988319  1.018517   1.001024  1.016308  ...  0.982504   1.020909   \n",
       "4      1.001693  1.019551   1.008598  1.016971  ...  0.972208   1.029616   \n",
       "...         ...       ...        ...       ...  ...       ...        ...   \n",
       "7556  13.715009  2.336913  12.619346  5.938726  ...  4.330472  32.530121   \n",
       "7557  13.536049  2.347701  12.756962  5.973259  ...  4.329026  32.095851   \n",
       "7558  13.632349  2.348489  12.697603  6.066412  ...  4.348248  32.149361   \n",
       "7559  13.711913  2.368894  12.726810  6.042720  ...  4.348622  32.361840   \n",
       "7560  13.665844  2.359797  12.778764  6.038155  ...  4.381038  32.298673   \n",
       "\n",
       "           492        493        494       495        496        497  \\\n",
       "0     1.000000   1.000000   1.000000  1.000000   1.000000   1.000000   \n",
       "1     0.989942   1.008624   0.995711  0.995747   0.999774   1.009962   \n",
       "2     0.985600   1.010574   0.985366  0.989964   0.998798   1.012744   \n",
       "3     0.993327   1.022211   0.977857  1.016550   0.996485   1.004038   \n",
       "4     0.985592   1.013736   0.979137  1.010212   1.000464   1.012856   \n",
       "...        ...        ...        ...       ...        ...        ...   \n",
       "7556  6.526203  10.394457  34.369781  9.034452  10.661642  13.224225   \n",
       "7557  6.580987  10.384656  34.280758  9.027280  10.647615  13.181893   \n",
       "7558  6.579746  10.390784  34.244936  9.077254  10.714523  13.232165   \n",
       "7559  6.523304  10.458344  34.077894  9.193761  10.538552  13.335945   \n",
       "7560  6.578748  10.417144  33.870457  9.175873  10.568986  13.451815   \n",
       "\n",
       "            498       499  \n",
       "0      1.000000  1.000000  \n",
       "1      1.015804  0.996649  \n",
       "2      1.031752  0.998241  \n",
       "3      1.029830  1.012463  \n",
       "4      1.029391  0.996915  \n",
       "...         ...       ...  \n",
       "7556  11.823337  4.385809  \n",
       "7557  11.871846  4.391866  \n",
       "7558  11.968144  4.352492  \n",
       "7559  12.083797  4.365180  \n",
       "7560  12.178018  4.353636  \n",
       "\n",
       "[7561 rows x 500 columns]"
      ]
     },
     "execution_count": 168,
     "metadata": {},
     "output_type": "execute_result"
    }
   ],
   "source": [
    "# Run the Monte Carlo simulation to forecast 30 years cumulative returns\n",
    "mc_simulation_30 = MCSimulation(\n",
    "    portfolio_data= prev_close,\n",
    "    weights=[.40,.60],\n",
    "    num_simulation=500,\n",
    "    num_trading_days = 252 * 30)\n",
    "\n",
    "mc_simulation_30.calc_cumulative_return()"
   ]
  },
  {
   "cell_type": "code",
   "execution_count": 169,
   "metadata": {},
   "outputs": [
    {
     "data": {
      "image/png": "[encoded data removed]",
      "text/plain": [
       "<Figure size 432x288 with 1 Axes>"
      ]
     },
     "metadata": {
      "needs_background": "light"
     },
     "output_type": "display_data"
    }
   ],
   "source": [
    "# Visualize the 30-year Monte Carlo simulation by creating an\n",
    "# overlay line plot\n",
    "\n",
    "mc_line_plot = mc_simulation_30.plot_simulation()"
   ]
  },
  {
   "cell_type": "markdown",
   "metadata": {},
   "source": [
    "#### Step 3: Plot the probability distribution of the Monte Carlo simulation."
   ]
  },
  {
   "cell_type": "code",
   "execution_count": 170,
   "metadata": {},
   "outputs": [
    {
     "data": {
      "image/png": "[encoded data removed]",
      "text/plain": [
       "<Figure size 432x288 with 1 Axes>"
      ]
     },
     "metadata": {
      "needs_background": "light"
     },
     "output_type": "display_data"
    }
   ],
   "source": [
    "# Visualize the probability distribution of the 30-year Monte Carlo simulation \n",
    "# by plotting a histogram\n",
    "\n",
    "mc_prob_dis = mc_simulation_30.plot_distribution()\n"
   ]
  },
  {
   "cell_type": "markdown",
   "metadata": {},
   "source": [
    "#### Step 4: Generate the summary statistics for the Monte Carlo simulation."
   ]
  },
  {
   "cell_type": "code",
   "execution_count": 171,
   "metadata": {},
   "outputs": [
    {
     "name": "stdout",
     "output_type": "stream",
     "text": [
      "count           500.000000\n",
      "mean             13.128800\n",
      "std              10.968919\n",
      "min               1.548004\n",
      "25%               6.316007\n",
      "50%              10.304513\n",
      "75%              16.111658\n",
      "max             111.031564\n",
      "95% CI Lower      2.496018\n",
      "95% CI Upper     44.814911\n",
      "Name: 7560, dtype: float64\n"
     ]
    }
   ],
   "source": [
    "# Generate summary statistics from the 30-year Monte Carlo simulation results\n",
    "# Save the results as a variable\n",
    "\n",
    "mc_sum_stats = mc_simulation_30.summarize_cumulative_return()\n",
    "\n",
    "# Review the 30-year Monte Carlo summary statistics\n",
    "\n",
    "print(mc_sum_stats)"
   ]
  },
  {
   "cell_type": "markdown",
   "metadata": {},
   "source": [
    "### Analyze the Retirement Portfolio Forecasts\n",
    "\n",
    "Using the current value of only the stock and bond portion of the member's portfolio and the summary statistics that you generated from the Monte Carlo simulation, answer the following question in your Jupyter notebook:\n",
    "\n",
    "-  What are the lower and upper bounds for the expected value of the portfolio with a 95% confidence interval?\n"
   ]
  },
  {
   "cell_type": "code",
   "execution_count": 172,
   "metadata": {},
   "outputs": [
    {
     "name": "stdout",
     "output_type": "stream",
     "text": [
      "Current balance of Bond and Stocks segment: $60689.50\n"
     ]
    }
   ],
   "source": [
    "# Print the current balance of the stock and bond portion of the members portfolio\n",
    "print(f'Current balance of Bond and Stocks segment: ${total_stocks_bonds:.2f}')\n"
   ]
  },
  {
   "cell_type": "code",
   "execution_count": 173,
   "metadata": {},
   "outputs": [
    {
     "name": "stdout",
     "output_type": "stream",
     "text": [
      "With 95% confidence, the expected 30 year return is between $151,482.10 and $2,719,794.54 based on current stock and bond balance of $60,689.50.\n"
     ]
    }
   ],
   "source": [
    "# Use the lower and upper `95%` confidence intervals to calculate the range of the possible outcomes for the current stock/bond portfolio\n",
    "ci_lower_thirty_cumulative_return = mc_sum_stats[8] * total_stocks_bonds\n",
    "ci_upper_thirty_cumulative_return = mc_sum_stats[9] * total_stocks_bonds\n",
    "\n",
    "# Print the result of your calculations\n",
    "print(f\"With 95% confidence, the expected 30 year return is between ${ci_lower_thirty_cumulative_return:,.2f} and ${ci_upper_thirty_cumulative_return:,.2f} based on current stock and bond balance of ${total_stocks_bonds:,.2f}.\")\n",
    "\n",
    "#print(ci_lower_thirty_cumulative_return)"
   ]
  },
  {
   "cell_type": "markdown",
   "metadata": {},
   "source": [
    "### Forecast Cumulative Returns in 10 Years\n",
    "\n",
    "The CTO of the credit union is impressed with your work on these planning tools but wonders if 30 years is a long time to wait until retirement. So, your next task is to adjust the retirement portfolio and run a new Monte Carlo simulation to find out if the changes will allow members to retire earlier.\n",
    "\n",
    "For this new Monte Carlo simulation, do the following: \n",
    "\n",
    "- Forecast the cumulative returns for 10 years from now. Because of the shortened investment horizon (30 years to 10 years), the portfolio needs to invest more heavily in the riskier asset&mdash;that is, stock&mdash;to help accumulate wealth for retirement. \n",
    "\n",
    "- Adjust the weights of the retirement portfolio so that the composition for the Monte Carlo simulation consists of 20% bonds and 80% stocks. \n",
    "\n",
    "- Run the simulation over 500 samples, and use the same data that the API call to Alpaca generated.\n",
    "\n",
    "- Based on the new Monte Carlo simulation, answer the following questions in your Jupyter notebook:\n",
    "\n",
    "    - Using the current value of only the stock and bond portion of the member's portfolio and the summary statistics that you generated from the new Monte Carlo simulation, what are the lower and upper bounds for the expected value of the portfolio (with the new weights) with a 95% confidence interval?\n",
    "\n",
    "    - Will weighting the portfolio more heavily toward stocks allow the credit union members to retire after only 10 years?\n"
   ]
  },
  {
   "cell_type": "code",
   "execution_count": 176,
   "metadata": {},
   "outputs": [
    {
     "data": {
      "text/html": [
       "<div>\n",
       "<style scoped>\n",
       "    .dataframe tbody tr th:only-of-type {\n",
       "        vertical-align: middle;\n",
       "    }\n",
       "\n",
       "    .dataframe tbody tr th {\n",
       "        vertical-align: top;\n",
       "    }\n",
       "\n",
       "    .dataframe thead tr th {\n",
       "        text-align: left;\n",
       "    }\n",
       "\n",
       "    .dataframe thead tr:last-of-type th {\n",
       "        text-align: right;\n",
       "    }\n",
       "</style>\n",
       "<table border=\"1\" class=\"dataframe\">\n",
       "  <thead>\n",
       "    <tr>\n",
       "      <th></th>\n",
       "      <th colspan=\"6\" halign=\"left\">AGG</th>\n",
       "      <th colspan=\"6\" halign=\"left\">SPY</th>\n",
       "    </tr>\n",
       "    <tr>\n",
       "      <th></th>\n",
       "      <th>open</th>\n",
       "      <th>high</th>\n",
       "      <th>low</th>\n",
       "      <th>close</th>\n",
       "      <th>volume</th>\n",
       "      <th>daily_return</th>\n",
       "      <th>open</th>\n",
       "      <th>high</th>\n",
       "      <th>low</th>\n",
       "      <th>close</th>\n",
       "      <th>volume</th>\n",
       "      <th>daily_return</th>\n",
       "    </tr>\n",
       "    <tr>\n",
       "      <th>time</th>\n",
       "      <th></th>\n",
       "      <th></th>\n",
       "      <th></th>\n",
       "      <th></th>\n",
       "      <th></th>\n",
       "      <th></th>\n",
       "      <th></th>\n",
       "      <th></th>\n",
       "      <th></th>\n",
       "      <th></th>\n",
       "      <th></th>\n",
       "      <th></th>\n",
       "    </tr>\n",
       "  </thead>\n",
       "  <tbody>\n",
       "    <tr>\n",
       "      <th>2017-08-07 00:00:00-04:00</th>\n",
       "      <td>109.69</td>\n",
       "      <td>109.72</td>\n",
       "      <td>109.6066</td>\n",
       "      <td>109.6850</td>\n",
       "      <td>1425317.0</td>\n",
       "      <td>NaN</td>\n",
       "      <td>247.4900</td>\n",
       "      <td>247.87</td>\n",
       "      <td>247.37</td>\n",
       "      <td>247.850</td>\n",
       "      <td>20901988</td>\n",
       "      <td>NaN</td>\n",
       "    </tr>\n",
       "    <tr>\n",
       "      <th>2017-08-08 00:00:00-04:00</th>\n",
       "      <td>109.67</td>\n",
       "      <td>109.69</td>\n",
       "      <td>109.5000</td>\n",
       "      <td>109.5810</td>\n",
       "      <td>1998999.0</td>\n",
       "      <td>-0.000948</td>\n",
       "      <td>247.5100</td>\n",
       "      <td>248.91</td>\n",
       "      <td>246.83</td>\n",
       "      <td>247.291</td>\n",
       "      <td>44619069</td>\n",
       "      <td>-0.002255</td>\n",
       "    </tr>\n",
       "    <tr>\n",
       "      <th>2017-08-09 00:00:00-04:00</th>\n",
       "      <td>109.87</td>\n",
       "      <td>109.87</td>\n",
       "      <td>109.6600</td>\n",
       "      <td>109.6700</td>\n",
       "      <td>2069028.0</td>\n",
       "      <td>0.000812</td>\n",
       "      <td>246.4700</td>\n",
       "      <td>247.31</td>\n",
       "      <td>246.06</td>\n",
       "      <td>247.230</td>\n",
       "      <td>48543032</td>\n",
       "      <td>-0.000247</td>\n",
       "    </tr>\n",
       "    <tr>\n",
       "      <th>2017-08-10 00:00:00-04:00</th>\n",
       "      <td>109.70</td>\n",
       "      <td>109.85</td>\n",
       "      <td>109.6700</td>\n",
       "      <td>109.8053</td>\n",
       "      <td>1691677.0</td>\n",
       "      <td>0.001234</td>\n",
       "      <td>246.2800</td>\n",
       "      <td>246.44</td>\n",
       "      <td>243.70</td>\n",
       "      <td>243.790</td>\n",
       "      <td>87857827</td>\n",
       "      <td>-0.013914</td>\n",
       "    </tr>\n",
       "    <tr>\n",
       "      <th>2017-08-11 00:00:00-04:00</th>\n",
       "      <td>109.75</td>\n",
       "      <td>109.94</td>\n",
       "      <td>109.6800</td>\n",
       "      <td>109.8850</td>\n",
       "      <td>1613467.0</td>\n",
       "      <td>0.000726</td>\n",
       "      <td>244.0200</td>\n",
       "      <td>244.80</td>\n",
       "      <td>243.75</td>\n",
       "      <td>244.110</td>\n",
       "      <td>56404847</td>\n",
       "      <td>0.001313</td>\n",
       "    </tr>\n",
       "    <tr>\n",
       "      <th>...</th>\n",
       "      <td>...</td>\n",
       "      <td>...</td>\n",
       "      <td>...</td>\n",
       "      <td>...</td>\n",
       "      <td>...</td>\n",
       "      <td>...</td>\n",
       "      <td>...</td>\n",
       "      <td>...</td>\n",
       "      <td>...</td>\n",
       "      <td>...</td>\n",
       "      <td>...</td>\n",
       "      <td>...</td>\n",
       "    </tr>\n",
       "    <tr>\n",
       "      <th>2020-08-03 00:00:00-04:00</th>\n",
       "      <td>119.37</td>\n",
       "      <td>119.40</td>\n",
       "      <td>119.1903</td>\n",
       "      <td>119.4000</td>\n",
       "      <td>17837420.0</td>\n",
       "      <td>-0.001338</td>\n",
       "      <td>328.3200</td>\n",
       "      <td>329.62</td>\n",
       "      <td>327.73</td>\n",
       "      <td>328.760</td>\n",
       "      <td>71741125</td>\n",
       "      <td>0.006768</td>\n",
       "    </tr>\n",
       "    <tr>\n",
       "      <th>2020-08-04 00:00:00-04:00</th>\n",
       "      <td>119.42</td>\n",
       "      <td>119.63</td>\n",
       "      <td>119.4200</td>\n",
       "      <td>119.6300</td>\n",
       "      <td>21512268.0</td>\n",
       "      <td>0.001926</td>\n",
       "      <td>327.8600</td>\n",
       "      <td>330.06</td>\n",
       "      <td>327.86</td>\n",
       "      <td>330.030</td>\n",
       "      <td>73684427</td>\n",
       "      <td>0.003863</td>\n",
       "    </tr>\n",
       "    <tr>\n",
       "      <th>2020-08-05 00:00:00-04:00</th>\n",
       "      <td>119.39</td>\n",
       "      <td>119.49</td>\n",
       "      <td>119.3100</td>\n",
       "      <td>119.4000</td>\n",
       "      <td>34175883.0</td>\n",
       "      <td>-0.001923</td>\n",
       "      <td>331.4700</td>\n",
       "      <td>332.39</td>\n",
       "      <td>331.18</td>\n",
       "      <td>332.060</td>\n",
       "      <td>72846458</td>\n",
       "      <td>0.006151</td>\n",
       "    </tr>\n",
       "    <tr>\n",
       "      <th>2020-08-06 00:00:00-04:00</th>\n",
       "      <td>119.62</td>\n",
       "      <td>119.73</td>\n",
       "      <td>119.5300</td>\n",
       "      <td>119.5800</td>\n",
       "      <td>9009216.0</td>\n",
       "      <td>0.001508</td>\n",
       "      <td>331.4799</td>\n",
       "      <td>334.46</td>\n",
       "      <td>331.13</td>\n",
       "      <td>334.310</td>\n",
       "      <td>76900649</td>\n",
       "      <td>0.006776</td>\n",
       "    </tr>\n",
       "    <tr>\n",
       "      <th>2020-08-07 00:00:00-04:00</th>\n",
       "      <td>119.66</td>\n",
       "      <td>119.73</td>\n",
       "      <td>119.3950</td>\n",
       "      <td>119.4450</td>\n",
       "      <td>8830420.0</td>\n",
       "      <td>-0.001129</td>\n",
       "      <td>333.2800</td>\n",
       "      <td>334.88</td>\n",
       "      <td>332.30</td>\n",
       "      <td>334.550</td>\n",
       "      <td>98710236</td>\n",
       "      <td>0.000718</td>\n",
       "    </tr>\n",
       "  </tbody>\n",
       "</table>\n",
       "<p>757 rows × 12 columns</p>\n",
       "</div>"
      ],
      "text/plain": [
       "                              AGG                                          \\\n",
       "                             open    high       low     close      volume   \n",
       "time                                                                        \n",
       "2017-08-07 00:00:00-04:00  109.69  109.72  109.6066  109.6850   1425317.0   \n",
       "2017-08-08 00:00:00-04:00  109.67  109.69  109.5000  109.5810   1998999.0   \n",
       "2017-08-09 00:00:00-04:00  109.87  109.87  109.6600  109.6700   2069028.0   \n",
       "2017-08-10 00:00:00-04:00  109.70  109.85  109.6700  109.8053   1691677.0   \n",
       "2017-08-11 00:00:00-04:00  109.75  109.94  109.6800  109.8850   1613467.0   \n",
       "...                           ...     ...       ...       ...         ...   \n",
       "2020-08-03 00:00:00-04:00  119.37  119.40  119.1903  119.4000  17837420.0   \n",
       "2020-08-04 00:00:00-04:00  119.42  119.63  119.4200  119.6300  21512268.0   \n",
       "2020-08-05 00:00:00-04:00  119.39  119.49  119.3100  119.4000  34175883.0   \n",
       "2020-08-06 00:00:00-04:00  119.62  119.73  119.5300  119.5800   9009216.0   \n",
       "2020-08-07 00:00:00-04:00  119.66  119.73  119.3950  119.4450   8830420.0   \n",
       "\n",
       "                                             SPY                           \\\n",
       "                          daily_return      open    high     low    close   \n",
       "time                                                                        \n",
       "2017-08-07 00:00:00-04:00          NaN  247.4900  247.87  247.37  247.850   \n",
       "2017-08-08 00:00:00-04:00    -0.000948  247.5100  248.91  246.83  247.291   \n",
       "2017-08-09 00:00:00-04:00     0.000812  246.4700  247.31  246.06  247.230   \n",
       "2017-08-10 00:00:00-04:00     0.001234  246.2800  246.44  243.70  243.790   \n",
       "2017-08-11 00:00:00-04:00     0.000726  244.0200  244.80  243.75  244.110   \n",
       "...                                ...       ...     ...     ...      ...   \n",
       "2020-08-03 00:00:00-04:00    -0.001338  328.3200  329.62  327.73  328.760   \n",
       "2020-08-04 00:00:00-04:00     0.001926  327.8600  330.06  327.86  330.030   \n",
       "2020-08-05 00:00:00-04:00    -0.001923  331.4700  332.39  331.18  332.060   \n",
       "2020-08-06 00:00:00-04:00     0.001508  331.4799  334.46  331.13  334.310   \n",
       "2020-08-07 00:00:00-04:00    -0.001129  333.2800  334.88  332.30  334.550   \n",
       "\n",
       "                                                  \n",
       "                             volume daily_return  \n",
       "time                                              \n",
       "2017-08-07 00:00:00-04:00  20901988          NaN  \n",
       "2017-08-08 00:00:00-04:00  44619069    -0.002255  \n",
       "2017-08-09 00:00:00-04:00  48543032    -0.000247  \n",
       "2017-08-10 00:00:00-04:00  87857827    -0.013914  \n",
       "2017-08-11 00:00:00-04:00  56404847     0.001313  \n",
       "...                             ...          ...  \n",
       "2020-08-03 00:00:00-04:00  71741125     0.006768  \n",
       "2020-08-04 00:00:00-04:00  73684427     0.003863  \n",
       "2020-08-05 00:00:00-04:00  72846458     0.006151  \n",
       "2020-08-06 00:00:00-04:00  76900649     0.006776  \n",
       "2020-08-07 00:00:00-04:00  98710236     0.000718  \n",
       "\n",
       "[757 rows x 12 columns]"
      ]
     },
     "metadata": {},
     "output_type": "display_data"
    }
   ],
   "source": [
    "# Configure a Monte Carlo simulation to forecast 10 years cumulative returns\n",
    "# The weights should be split 20% to AGG and 80% to SPY.\n",
    "# Run 500 samples.\n",
    "mc_20yr_faster = MCSimulation(\n",
    "    portfolio_data= prev_close,\n",
    "    weights=[.20,.80],\n",
    "    num_simulation=500,\n",
    "    num_trading_days = 252 * 10)\n",
    "\n",
    "# Review the simulation input data\n",
    "display(mc_20yr_faster.portfolio_data)\n"
   ]
  },
  {
   "cell_type": "code",
   "execution_count": 178,
   "metadata": {},
   "outputs": [
    {
     "name": "stdout",
     "output_type": "stream",
     "text": [
      "Running Monte Carlo simulation number 0.\n",
      "Running Monte Carlo simulation number 10.\n",
      "Running Monte Carlo simulation number 20.\n",
      "Running Monte Carlo simulation number 30.\n",
      "Running Monte Carlo simulation number 40.\n",
      "Running Monte Carlo simulation number 50.\n",
      "Running Monte Carlo simulation number 60.\n",
      "Running Monte Carlo simulation number 70.\n",
      "Running Monte Carlo simulation number 80.\n",
      "Running Monte Carlo simulation number 90.\n",
      "Running Monte Carlo simulation number 100.\n"
     ]
    },
    {
     "name": "stderr",
     "output_type": "stream",
     "text": [
      "/Users/daniels.english/Documents/UCBE_Bootcamp/apis_workset/MCForecastTools.py:117: PerformanceWarning: DataFrame is highly fragmented.  This is usually the result of calling `frame.insert` many times, which has poor performance.  Consider joining all columns at once using pd.concat(axis=1) instead.  To get a de-fragmented frame, use `newframe = frame.copy()`\n",
      "  portfolio_cumulative_returns[n] = (1 + sim_df.fillna(0)).cumprod()\n"
     ]
    },
    {
     "name": "stdout",
     "output_type": "stream",
     "text": [
      "Running Monte Carlo simulation number 110.\n",
      "Running Monte Carlo simulation number 120.\n",
      "Running Monte Carlo simulation number 130.\n",
      "Running Monte Carlo simulation number 140.\n",
      "Running Monte Carlo simulation number 150.\n",
      "Running Monte Carlo simulation number 160.\n",
      "Running Monte Carlo simulation number 170.\n",
      "Running Monte Carlo simulation number 180.\n",
      "Running Monte Carlo simulation number 190.\n",
      "Running Monte Carlo simulation number 200.\n",
      "Running Monte Carlo simulation number 210.\n",
      "Running Monte Carlo simulation number 220.\n",
      "Running Monte Carlo simulation number 230.\n",
      "Running Monte Carlo simulation number 240.\n",
      "Running Monte Carlo simulation number 250.\n",
      "Running Monte Carlo simulation number 260.\n",
      "Running Monte Carlo simulation number 270.\n",
      "Running Monte Carlo simulation number 280.\n",
      "Running Monte Carlo simulation number 290.\n",
      "Running Monte Carlo simulation number 300.\n",
      "Running Monte Carlo simulation number 310.\n",
      "Running Monte Carlo simulation number 320.\n",
      "Running Monte Carlo simulation number 330.\n",
      "Running Monte Carlo simulation number 340.\n",
      "Running Monte Carlo simulation number 350.\n",
      "Running Monte Carlo simulation number 360.\n",
      "Running Monte Carlo simulation number 370.\n",
      "Running Monte Carlo simulation number 380.\n",
      "Running Monte Carlo simulation number 390.\n",
      "Running Monte Carlo simulation number 400.\n",
      "Running Monte Carlo simulation number 410.\n",
      "Running Monte Carlo simulation number 420.\n",
      "Running Monte Carlo simulation number 430.\n",
      "Running Monte Carlo simulation number 440.\n",
      "Running Monte Carlo simulation number 450.\n",
      "Running Monte Carlo simulation number 460.\n",
      "Running Monte Carlo simulation number 470.\n",
      "Running Monte Carlo simulation number 480.\n",
      "Running Monte Carlo simulation number 490.\n"
     ]
    },
    {
     "data": {
      "text/html": [
       "<div>\n",
       "<style scoped>\n",
       "    .dataframe tbody tr th:only-of-type {\n",
       "        vertical-align: middle;\n",
       "    }\n",
       "\n",
       "    .dataframe tbody tr th {\n",
       "        vertical-align: top;\n",
       "    }\n",
       "\n",
       "    .dataframe thead th {\n",
       "        text-align: right;\n",
       "    }\n",
       "</style>\n",
       "<table border=\"1\" class=\"dataframe\">\n",
       "  <thead>\n",
       "    <tr style=\"text-align: right;\">\n",
       "      <th></th>\n",
       "      <th>0</th>\n",
       "      <th>1</th>\n",
       "      <th>2</th>\n",
       "      <th>3</th>\n",
       "      <th>4</th>\n",
       "      <th>5</th>\n",
       "      <th>6</th>\n",
       "      <th>7</th>\n",
       "      <th>8</th>\n",
       "      <th>9</th>\n",
       "      <th>...</th>\n",
       "      <th>490</th>\n",
       "      <th>491</th>\n",
       "      <th>492</th>\n",
       "      <th>493</th>\n",
       "      <th>494</th>\n",
       "      <th>495</th>\n",
       "      <th>496</th>\n",
       "      <th>497</th>\n",
       "      <th>498</th>\n",
       "      <th>499</th>\n",
       "    </tr>\n",
       "  </thead>\n",
       "  <tbody>\n",
       "    <tr>\n",
       "      <th>0</th>\n",
       "      <td>1.000000</td>\n",
       "      <td>1.000000</td>\n",
       "      <td>1.000000</td>\n",
       "      <td>1.000000</td>\n",
       "      <td>1.000000</td>\n",
       "      <td>1.000000</td>\n",
       "      <td>1.000000</td>\n",
       "      <td>1.000000</td>\n",
       "      <td>1.000000</td>\n",
       "      <td>1.000000</td>\n",
       "      <td>...</td>\n",
       "      <td>1.000000</td>\n",
       "      <td>1.000000</td>\n",
       "      <td>1.000000</td>\n",
       "      <td>1.000000</td>\n",
       "      <td>1.000000</td>\n",
       "      <td>1.000000</td>\n",
       "      <td>1.000000</td>\n",
       "      <td>1.000000</td>\n",
       "      <td>1.000000</td>\n",
       "      <td>1.000000</td>\n",
       "    </tr>\n",
       "    <tr>\n",
       "      <th>1</th>\n",
       "      <td>1.008595</td>\n",
       "      <td>1.017672</td>\n",
       "      <td>0.991074</td>\n",
       "      <td>1.008105</td>\n",
       "      <td>0.983489</td>\n",
       "      <td>1.008301</td>\n",
       "      <td>0.985476</td>\n",
       "      <td>1.014490</td>\n",
       "      <td>1.005350</td>\n",
       "      <td>0.989019</td>\n",
       "      <td>...</td>\n",
       "      <td>0.996112</td>\n",
       "      <td>1.010753</td>\n",
       "      <td>0.980587</td>\n",
       "      <td>0.999890</td>\n",
       "      <td>0.986582</td>\n",
       "      <td>1.011444</td>\n",
       "      <td>1.001020</td>\n",
       "      <td>1.021438</td>\n",
       "      <td>0.993629</td>\n",
       "      <td>0.999089</td>\n",
       "    </tr>\n",
       "    <tr>\n",
       "      <th>2</th>\n",
       "      <td>1.016151</td>\n",
       "      <td>1.018298</td>\n",
       "      <td>1.008585</td>\n",
       "      <td>1.034001</td>\n",
       "      <td>0.948526</td>\n",
       "      <td>1.002594</td>\n",
       "      <td>0.977224</td>\n",
       "      <td>1.023243</td>\n",
       "      <td>1.007368</td>\n",
       "      <td>0.993681</td>\n",
       "      <td>...</td>\n",
       "      <td>1.008542</td>\n",
       "      <td>0.998230</td>\n",
       "      <td>0.974298</td>\n",
       "      <td>0.993201</td>\n",
       "      <td>0.979034</td>\n",
       "      <td>1.010419</td>\n",
       "      <td>1.009219</td>\n",
       "      <td>1.015451</td>\n",
       "      <td>1.000406</td>\n",
       "      <td>1.009137</td>\n",
       "    </tr>\n",
       "    <tr>\n",
       "      <th>3</th>\n",
       "      <td>1.020084</td>\n",
       "      <td>1.029751</td>\n",
       "      <td>1.010063</td>\n",
       "      <td>1.051907</td>\n",
       "      <td>0.928036</td>\n",
       "      <td>1.004669</td>\n",
       "      <td>0.961431</td>\n",
       "      <td>1.042308</td>\n",
       "      <td>1.022339</td>\n",
       "      <td>0.984694</td>\n",
       "      <td>...</td>\n",
       "      <td>0.995457</td>\n",
       "      <td>1.001788</td>\n",
       "      <td>0.982163</td>\n",
       "      <td>0.999710</td>\n",
       "      <td>0.967499</td>\n",
       "      <td>1.013798</td>\n",
       "      <td>1.005597</td>\n",
       "      <td>1.014523</td>\n",
       "      <td>1.022858</td>\n",
       "      <td>1.010410</td>\n",
       "    </tr>\n",
       "    <tr>\n",
       "      <th>4</th>\n",
       "      <td>1.018024</td>\n",
       "      <td>1.017480</td>\n",
       "      <td>1.014877</td>\n",
       "      <td>1.055583</td>\n",
       "      <td>0.923276</td>\n",
       "      <td>1.003093</td>\n",
       "      <td>0.962603</td>\n",
       "      <td>1.040090</td>\n",
       "      <td>1.015039</td>\n",
       "      <td>0.984216</td>\n",
       "      <td>...</td>\n",
       "      <td>0.987950</td>\n",
       "      <td>0.997262</td>\n",
       "      <td>0.973508</td>\n",
       "      <td>1.004639</td>\n",
       "      <td>0.970104</td>\n",
       "      <td>1.012060</td>\n",
       "      <td>1.021702</td>\n",
       "      <td>0.999852</td>\n",
       "      <td>1.023111</td>\n",
       "      <td>1.010217</td>\n",
       "    </tr>\n",
       "    <tr>\n",
       "      <th>...</th>\n",
       "      <td>...</td>\n",
       "      <td>...</td>\n",
       "      <td>...</td>\n",
       "      <td>...</td>\n",
       "      <td>...</td>\n",
       "      <td>...</td>\n",
       "      <td>...</td>\n",
       "      <td>...</td>\n",
       "      <td>...</td>\n",
       "      <td>...</td>\n",
       "      <td>...</td>\n",
       "      <td>...</td>\n",
       "      <td>...</td>\n",
       "      <td>...</td>\n",
       "      <td>...</td>\n",
       "      <td>...</td>\n",
       "      <td>...</td>\n",
       "      <td>...</td>\n",
       "      <td>...</td>\n",
       "      <td>...</td>\n",
       "      <td>...</td>\n",
       "    </tr>\n",
       "    <tr>\n",
       "      <th>2516</th>\n",
       "      <td>2.743615</td>\n",
       "      <td>2.099323</td>\n",
       "      <td>4.041125</td>\n",
       "      <td>1.495567</td>\n",
       "      <td>2.024534</td>\n",
       "      <td>1.943817</td>\n",
       "      <td>4.623549</td>\n",
       "      <td>2.600620</td>\n",
       "      <td>2.577598</td>\n",
       "      <td>5.183804</td>\n",
       "      <td>...</td>\n",
       "      <td>5.958200</td>\n",
       "      <td>1.825277</td>\n",
       "      <td>1.855977</td>\n",
       "      <td>3.569388</td>\n",
       "      <td>2.714953</td>\n",
       "      <td>4.633421</td>\n",
       "      <td>5.242572</td>\n",
       "      <td>2.782174</td>\n",
       "      <td>4.800948</td>\n",
       "      <td>2.445687</td>\n",
       "    </tr>\n",
       "    <tr>\n",
       "      <th>2517</th>\n",
       "      <td>2.704094</td>\n",
       "      <td>2.107112</td>\n",
       "      <td>4.063934</td>\n",
       "      <td>1.479833</td>\n",
       "      <td>2.050537</td>\n",
       "      <td>1.914657</td>\n",
       "      <td>4.738329</td>\n",
       "      <td>2.569442</td>\n",
       "      <td>2.614182</td>\n",
       "      <td>5.180629</td>\n",
       "      <td>...</td>\n",
       "      <td>5.851545</td>\n",
       "      <td>1.834817</td>\n",
       "      <td>1.823257</td>\n",
       "      <td>3.543769</td>\n",
       "      <td>2.689825</td>\n",
       "      <td>4.634004</td>\n",
       "      <td>5.129442</td>\n",
       "      <td>2.773433</td>\n",
       "      <td>4.818039</td>\n",
       "      <td>2.437658</td>\n",
       "    </tr>\n",
       "    <tr>\n",
       "      <th>2518</th>\n",
       "      <td>2.693401</td>\n",
       "      <td>2.066977</td>\n",
       "      <td>3.979241</td>\n",
       "      <td>1.481619</td>\n",
       "      <td>2.073956</td>\n",
       "      <td>1.937242</td>\n",
       "      <td>4.813307</td>\n",
       "      <td>2.580000</td>\n",
       "      <td>2.643005</td>\n",
       "      <td>5.157868</td>\n",
       "      <td>...</td>\n",
       "      <td>5.885102</td>\n",
       "      <td>1.817938</td>\n",
       "      <td>1.794476</td>\n",
       "      <td>3.489286</td>\n",
       "      <td>2.675903</td>\n",
       "      <td>4.583675</td>\n",
       "      <td>5.144150</td>\n",
       "      <td>2.852702</td>\n",
       "      <td>4.846445</td>\n",
       "      <td>2.434784</td>\n",
       "    </tr>\n",
       "    <tr>\n",
       "      <th>2519</th>\n",
       "      <td>2.695526</td>\n",
       "      <td>2.058356</td>\n",
       "      <td>3.956802</td>\n",
       "      <td>1.510044</td>\n",
       "      <td>2.036535</td>\n",
       "      <td>1.912095</td>\n",
       "      <td>4.720297</td>\n",
       "      <td>2.558793</td>\n",
       "      <td>2.658648</td>\n",
       "      <td>5.138228</td>\n",
       "      <td>...</td>\n",
       "      <td>5.926056</td>\n",
       "      <td>1.807051</td>\n",
       "      <td>1.764348</td>\n",
       "      <td>3.442907</td>\n",
       "      <td>2.664841</td>\n",
       "      <td>4.658793</td>\n",
       "      <td>5.205052</td>\n",
       "      <td>2.816940</td>\n",
       "      <td>4.832880</td>\n",
       "      <td>2.396148</td>\n",
       "    </tr>\n",
       "    <tr>\n",
       "      <th>2520</th>\n",
       "      <td>2.690780</td>\n",
       "      <td>2.056545</td>\n",
       "      <td>3.950208</td>\n",
       "      <td>1.490780</td>\n",
       "      <td>2.070814</td>\n",
       "      <td>1.911986</td>\n",
       "      <td>4.658904</td>\n",
       "      <td>2.544572</td>\n",
       "      <td>2.661301</td>\n",
       "      <td>5.175650</td>\n",
       "      <td>...</td>\n",
       "      <td>5.862085</td>\n",
       "      <td>1.790334</td>\n",
       "      <td>1.720630</td>\n",
       "      <td>3.477871</td>\n",
       "      <td>2.666536</td>\n",
       "      <td>4.755281</td>\n",
       "      <td>5.249433</td>\n",
       "      <td>2.831856</td>\n",
       "      <td>4.843192</td>\n",
       "      <td>2.373505</td>\n",
       "    </tr>\n",
       "  </tbody>\n",
       "</table>\n",
       "<p>2521 rows × 500 columns</p>\n",
       "</div>"
      ],
      "text/plain": [
       "           0         1         2         3         4         5         6    \\\n",
       "0     1.000000  1.000000  1.000000  1.000000  1.000000  1.000000  1.000000   \n",
       "1     1.008595  1.017672  0.991074  1.008105  0.983489  1.008301  0.985476   \n",
       "2     1.016151  1.018298  1.008585  1.034001  0.948526  1.002594  0.977224   \n",
       "3     1.020084  1.029751  1.010063  1.051907  0.928036  1.004669  0.961431   \n",
       "4     1.018024  1.017480  1.014877  1.055583  0.923276  1.003093  0.962603   \n",
       "...        ...       ...       ...       ...       ...       ...       ...   \n",
       "2516  2.743615  2.099323  4.041125  1.495567  2.024534  1.943817  4.623549   \n",
       "2517  2.704094  2.107112  4.063934  1.479833  2.050537  1.914657  4.738329   \n",
       "2518  2.693401  2.066977  3.979241  1.481619  2.073956  1.937242  4.813307   \n",
       "2519  2.695526  2.058356  3.956802  1.510044  2.036535  1.912095  4.720297   \n",
       "2520  2.690780  2.056545  3.950208  1.490780  2.070814  1.911986  4.658904   \n",
       "\n",
       "           7         8         9    ...       490       491       492  \\\n",
       "0     1.000000  1.000000  1.000000  ...  1.000000  1.000000  1.000000   \n",
       "1     1.014490  1.005350  0.989019  ...  0.996112  1.010753  0.980587   \n",
       "2     1.023243  1.007368  0.993681  ...  1.008542  0.998230  0.974298   \n",
       "3     1.042308  1.022339  0.984694  ...  0.995457  1.001788  0.982163   \n",
       "4     1.040090  1.015039  0.984216  ...  0.987950  0.997262  0.973508   \n",
       "...        ...       ...       ...  ...       ...       ...       ...   \n",
       "2516  2.600620  2.577598  5.183804  ...  5.958200  1.825277  1.855977   \n",
       "2517  2.569442  2.614182  5.180629  ...  5.851545  1.834817  1.823257   \n",
       "2518  2.580000  2.643005  5.157868  ...  5.885102  1.817938  1.794476   \n",
       "2519  2.558793  2.658648  5.138228  ...  5.926056  1.807051  1.764348   \n",
       "2520  2.544572  2.661301  5.175650  ...  5.862085  1.790334  1.720630   \n",
       "\n",
       "           493       494       495       496       497       498       499  \n",
       "0     1.000000  1.000000  1.000000  1.000000  1.000000  1.000000  1.000000  \n",
       "1     0.999890  0.986582  1.011444  1.001020  1.021438  0.993629  0.999089  \n",
       "2     0.993201  0.979034  1.010419  1.009219  1.015451  1.000406  1.009137  \n",
       "3     0.999710  0.967499  1.013798  1.005597  1.014523  1.022858  1.010410  \n",
       "4     1.004639  0.970104  1.012060  1.021702  0.999852  1.023111  1.010217  \n",
       "...        ...       ...       ...       ...       ...       ...       ...  \n",
       "2516  3.569388  2.714953  4.633421  5.242572  2.782174  4.800948  2.445687  \n",
       "2517  3.543769  2.689825  4.634004  5.129442  2.773433  4.818039  2.437658  \n",
       "2518  3.489286  2.675903  4.583675  5.144150  2.852702  4.846445  2.434784  \n",
       "2519  3.442907  2.664841  4.658793  5.205052  2.816940  4.832880  2.396148  \n",
       "2520  3.477871  2.666536  4.755281  5.249433  2.831856  4.843192  2.373505  \n",
       "\n",
       "[2521 rows x 500 columns]"
      ]
     },
     "execution_count": 178,
     "metadata": {},
     "output_type": "execute_result"
    }
   ],
   "source": [
    "# Run the Monte Carlo simulation to forecast 10 years cumulative returns\n",
    "\n",
    "mc_20yr_faster.calc_cumulative_return()"
   ]
  },
  {
   "cell_type": "code",
   "execution_count": 179,
   "metadata": {},
   "outputs": [
    {
     "data": {
      "text/plain": [
       "<AxesSubplot:title={'center':'500 Simulations of Cumulative Portfolio Return Trajectories Over the Next 2520 Trading Days.'}>"
      ]
     },
     "execution_count": 179,
     "metadata": {},
     "output_type": "execute_result"
    },
    {
     "data": {
      "image/png": "[encoded data removed]",
      "text/plain": [
       "<Figure size 432x288 with 1 Axes>"
      ]
     },
     "metadata": {
      "needs_background": "light"
     },
     "output_type": "display_data"
    }
   ],
   "source": [
    "# Visualize the 10-year Monte Carlo simulation by creating an\n",
    "# overlay line plot\n",
    "mc_20yr_faster.plot_simulation()\n"
   ]
  },
  {
   "cell_type": "code",
   "execution_count": 180,
   "metadata": {},
   "outputs": [
    {
     "data": {
      "text/plain": [
       "<AxesSubplot:title={'center':'Distribution of Final Cumuluative Returns Across All 500 Simulations'}, ylabel='Frequency'>"
      ]
     },
     "execution_count": 180,
     "metadata": {},
     "output_type": "execute_result"
    },
    {
     "data": {
      "image/png": "[encoded data removed]",
      "text/plain": [
       "<Figure size 432x288 with 1 Axes>"
      ]
     },
     "metadata": {
      "needs_background": "light"
     },
     "output_type": "display_data"
    }
   ],
   "source": [
    "# Visualize the probability distribution of the 10-year Monte Carlo simulation \n",
    "# by plotting a histogram\n",
    "mc_20yr_faster.plot_distribution()\n"
   ]
  },
  {
   "cell_type": "code",
   "execution_count": 181,
   "metadata": {},
   "outputs": [
    {
     "data": {
      "text/plain": [
       "count           500.000000\n",
       "mean              2.981957\n",
       "std               1.898207\n",
       "min               0.407914\n",
       "25%               1.761710\n",
       "50%               2.570777\n",
       "75%               3.788572\n",
       "max              20.874735\n",
       "95% CI Lower      0.775104\n",
       "95% CI Upper      7.718894\n",
       "Name: 2520, dtype: float64"
      ]
     },
     "metadata": {},
     "output_type": "display_data"
    }
   ],
   "source": [
    "# Generate summary statistics from the 10-year Monte Carlo simulation results\n",
    "# Save the results as a variable\n",
    "mc_10yr_stats = mc_20yr_faster.summarize_cumulative_return()\n",
    "\n",
    "\n",
    "# Review the 10-year Monte Carlo summary statistics\n",
    "display(mc_10yr_stats)"
   ]
  },
  {
   "cell_type": "markdown",
   "metadata": {},
   "source": [
    "### Answer the following questions:"
   ]
  },
  {
   "cell_type": "markdown",
   "metadata": {},
   "source": [
    "#### Question: Using the current value of only the stock and bond portion of the member's portfolio and the summary statistics that you generated from the new Monte Carlo simulation, what are the lower and upper bounds for the expected value of the portfolio (with the new weights) with a 95% confidence interval?"
   ]
  },
  {
   "cell_type": "code",
   "execution_count": 183,
   "metadata": {},
   "outputs": [
    {
     "name": "stdout",
     "output_type": "stream",
     "text": [
      "Current balance of Bond and Stock segment of portfolio is $60,689.50.\n"
     ]
    }
   ],
   "source": [
    "# Print the current balance of the stock and bond portion of the members portfolio\n",
    "print(f'Current balance of Bond and Stock segment of portfolio is ${total_stocks_bonds:,.2f}.')"
   ]
  },
  {
   "cell_type": "code",
   "execution_count": 187,
   "metadata": {},
   "outputs": [
    {
     "name": "stdout",
     "output_type": "stream",
     "text": [
      "With 95% confidence, the expected 10 year return is between $47,040.66 and $468,455.83 based on current stock and bond balance of $60,689.50.\n"
     ]
    }
   ],
   "source": [
    "# Use the lower and upper `95%` confidence intervals to calculate the range of the possible outcomes for the current stock/bond portfolio\n",
    "ci_lower_ten_cumulative_return = mc_10yr_stats[8] * total_stocks_bonds\n",
    "ci_upper_ten_cumulative_return = mc_10yr_stats[9] * total_stocks_bonds\n",
    "\n",
    "# Print the result of your calculations\n",
    "print(f\"With 95% confidence, the expected 10 year return is between ${ci_lower_ten_cumulative_return:,.2f} and ${ci_upper_ten_cumulative_return:,.2f} based on current stock and bond balance of ${total_stocks_bonds:,.2f}.\")\n"
   ]
  },
  {
   "cell_type": "markdown",
   "metadata": {},
   "source": [
    "#### Question: Will weighting the portfolio more heavily to stocks allow the credit union members to retire after only 10 years?"
   ]
  },
  {
   "cell_type": "raw",
   "metadata": {},
   "source": [
    "**Answer**: Based on the simulations run using the Monte Carlo Simulator, credit union members will likely not be abale to retire after ten years. Despite weighing their portfolios more heavily towards stocks, it is likely that members would only have funds to cover 3.25 years at most or as little as 3.92 months."
   ]
  },
  {
   "cell_type": "code",
   "execution_count": null,
   "metadata": {},
   "outputs": [],
   "source": []
  }
 ],
 "metadata": {
  "kernelspec": {
   "display_name": "dev",
   "language": "python",
   "name": "dev"
  },
  "language_info": {
   "codemirror_mode": {
    "name": "ipython",
    "version": 3
   },
   "file_extension": ".py",
   "mimetype": "text/x-python",
   "name": "python",
   "nbconvert_exporter": "python",
   "pygments_lexer": "ipython3",
   "version": "3.7.11"
  }
 },
 "nbformat": 4,
 "nbformat_minor": 4
}
